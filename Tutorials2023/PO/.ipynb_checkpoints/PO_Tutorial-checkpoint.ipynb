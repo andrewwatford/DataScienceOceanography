{
 "cells": [
  {
   "cell_type": "markdown",
   "id": "ef5c169b-bc1f-49ed-ae51-169df9060918",
   "metadata": {
    "tags": []
   },
   "source": [
    "# Physical Oceanography (PO)\n",
    "\n",
    "<img src=\"SST_Winds.png\" width=1000/>\n",
    "\n",
    "This tutorial is part of our Physical Oceanography day. It demonstrates how to do basic analysis and visualization of gridded oceanic and atmospheric data. We will use the so-called reanalysis data, a modeled estimate of how the ocean and atmosphere have evolved over the past several decades. This data has been downloaded using Copernicus API, a giant data database for Earth system observations and modeling. See the readme.txt and the download_era.py script for instructions on downloading the data -- it is very simple to do once you see an example. \n",
    "\n",
    "### Estimated tutorial time: 1.5 hours\n",
    "\n",
    "## Tutorial goals\n",
    "- Python Skills\n",
    "    - Work with xarray package \n",
    "    - Make different plots and videos\n",
    "    - Calculate climatology and anomalies from it\n",
    "    - Calculate global mean quantities from lat/lon data using area weights\n",
    "    - Smooth noisy time series to identify long-term trends\n",
    "    - Calculate conditional averages\n",
    "- PO knowledge\n",
    "    - Learn about the variability of ocean temperatures on seasonal and interannual timescale \n",
    "    - Identify if global warming trends can be seen in surface ocean temperature\n",
    "    - See what El Nino and La Nina events look like and how the world responds to it\n",
    "    \n",
    "## Data\n",
    "\n",
    "- ERA5 is the fifth generation ECMWF reanalysis for the global climate and weather for the past 4 to 7 decades. Reanalysis combines model data with observations from across the world into a globally complete and consistent dataset using the laws of physics. We will use just a few of its two-dimensional variables, including the sea surface temperature (SST), atmospheric precipitation, surface pressure and winds, as well as the 2 meter air temperature.  The ERA5 data was pre-downloaded using the Copernicus API: https://cds.climate.copernicus.eu/api-how-to. The download_era.py script gets this data:  https://cds.climate.copernicus.eu/cdsapp#!/dataset/reanalysis-era5-single-levels-monthly-means-preliminary-back-extension?tab=form\n",
    "\n",
    "- Once you download the  data, there will be an .nc file that is loded and analysed in ENSO.ipynb (the data has already been downloaded so no need to re-download it unless you need extra variables). To speed up the analysis, we coarsened the dataset from 1/4 degree to a 1 degree grid and saved it as __ERA5_Coarse.nc__\n",
    "\n",
    "\n",
    "\n",
    "\n",
    "    \n",
    "## Reading \n",
    "\n",
    "Johnson, G. C., & Lyman, J. M. (2020). Warming trends increasingly dominate global ocean. Nature Climate Change, 10(8), 757-761. https://www.nature.com/articles/s41558-020-0822-0\n",
    "\n",
    "McPhaden, Michael J., Stephen E. Zebiak, and Michael H. Glantz. \"ENSO as an integrating concept in earth science.\" Science 314, no. 5806 (2006): 1740-1745. https://doi.org/10.1126/science.1132588    \n",
    "\n",
    "# Let's start!"
   ]
  },
  {
   "cell_type": "markdown",
   "id": "4fa626ba-67b9-4c37-9023-cad621f580da",
   "metadata": {},
   "source": [
    "## Using google drive to load files\n",
    "\n",
    "First, create a shortcut to the shared google drive folder and put it into your MyDrive folder. This way it wi# Run this cell to mount your google drive to use in colab\n",
    "from google.colab import drive\n",
    "drive.mount('/content/drive')ll be visible to google colab when you mount your google drive. \n",
    "\n",
    "<img src=\"google_drive_shortcut.png\" width=400/>"
   ]
  },
  {
   "cell_type": "code",
   "execution_count": null,
   "id": "af1f8ab5-ce3b-4fa8-a9ac-a1eb906e579c",
   "metadata": {},
   "outputs": [],
   "source": [
    "# Run this cell to mount your google drive in colab\n",
    "from google.colab import drive\n",
    "drive.mount('/content/drive')"
   ]
  },
  {
   "cell_type": "markdown",
   "id": "2ba8a2ad-eaae-48ea-90d0-6a92ed4e6d25",
   "metadata": {
    "tags": []
   },
   "source": [
    "## Importing the packages \n",
    "Start by importing everything you need: this sometimes requires the installation of packages that are not yet in your environment. To install a new package, create a new cell in the notebook, type __!pip install packagename__ and execute. Tip: use __Shift+Enter__ as a shortcut for executing a cell. \n",
    "\n",
    "In Jupyter notebooks, the exclamation mark ! executes commands from the underlying operating system. So you can use your standard Linux commands, like __dir__ or __du -sh *__."
   ]
  },
  {
   "cell_type": "code",
   "execution_count": null,
   "id": "7460d7f6-7f89-44b1-91c2-001c3c66202d",
   "metadata": {},
   "outputs": [],
   "source": [
    "!pip install cartopy"
   ]
  },
  {
   "cell_type": "code",
   "execution_count": null,
   "id": "5fb6169d-afb6-464b-ae32-d425639c5b64",
   "metadata": {},
   "outputs": [],
   "source": [
    "import numpy as np                 #for general calculations.\n",
    "import matplotlib.pyplot as plt    #making plots.\n",
    "import xarray as xr                #loading and working with data in an optimal way.\n",
    "\n",
    "from matplotlib.animation import FuncAnimation  #creating animations and videos.\n",
    "from IPython.display import Video, HTML         #embedding videos in the notebook\n",
    "\n",
    "import cartopy.crs as ccrs         # to plot maps with different projections\n",
    "import cartopy.feature as cfeature # to plot coastlines, land, borders, etc.\n",
    "\n",
    "#this command allows interactive plots in noteboks\n",
    "%matplotlib inline   "
   ]
  },
  {
   "cell_type": "markdown",
   "id": "b81dab39-6fdf-4c60-a685-3cec698ca1fb",
   "metadata": {},
   "source": [
    "__xarray__ opens the file and loads its format/variables but doesn't load the whole data until it is directly necessary for calculations or plotting. Let's learn how to use it!"
   ]
  },
  {
   "cell_type": "code",
   "execution_count": null,
   "id": "900a0328-00ba-44d2-a15b-13b1d7c390a0",
   "metadata": {
    "tags": []
   },
   "outputs": [],
   "source": [
    "#Specify the data file to load\n",
    "#ERA5_Coarse='/content/drive/MyDrive/Datasets2023/ERA5/ERA5_Coarse.nc'  #loading from google drive\n",
    "ERA5_Coarse='/dat1/gmanuch/DataScienceOceanography/ERA5_Coarse.nc'    #loading from local path\n",
    "\n",
    "era = xr.open_dataset(ERA5_Coarse)  #xarray can open different format data, netcdf is one of them\n",
    "era                                 #this simply prints what's in the dataset"
   ]
  },
  {
   "cell_type": "markdown",
   "id": "33a72254-ee2b-465b-bd0f-18c2245793bd",
   "metadata": {},
   "source": [
    "### Creating a new xarray variable\n",
    "\n",
    "When presenting to a general audience in US, it might be better to plot temperatures in Fahrenheit (or Celcius) instead of Kelvin.\n",
    "\n",
    "Let's create a variable that is the temperature in Fahrenheit and add it to our existing xarray variables. As you saw above, xarray variables have __attributes__ that specify useful information about the variables, like their longer description, units, and sourse of data. Adding attributes to all variables is a good practice. "
   ]
  },
  {
   "cell_type": "code",
   "execution_count": null,
   "id": "83273458-d31c-4f85-9472-a46443fbfd95",
   "metadata": {
    "tags": []
   },
   "outputs": [],
   "source": [
    "era['t2m_F']=(era['t2m']-273.15)*1.8 + 32             #Use the formula to get from C to F.\n",
    "\n",
    "era['t2m_F'].attrs['long_name']='2m temperature'      #Add some attributes as name:value pairs.\n",
    "era['t2m_F'].attrs['units']='Fahrenheit'\n",
    "era['t2m_F'].attrs['formula']='(K-273.15) x 1.8 + 32'\n",
    "\n",
    "era['t2m_F']                                           #see the new variable"
   ]
  },
  {
   "cell_type": "markdown",
   "id": "2f246588-52cc-4aa3-99d3-79f973941993",
   "metadata": {
    "tags": []
   },
   "source": [
    "### Making a quick plot \n",
    "xarray includes plotting commands that use matplotlib in the background; this is useful to quickly view the data without having to specify the axis labels, colorbars, titles -- all of it is done for you!"
   ]
  },
  {
   "cell_type": "code",
   "execution_count": null,
   "id": "3079bd6f-1324-437c-8f02-61ffaf35779a",
   "metadata": {},
   "outputs": [],
   "source": [
    "plt.figure(figsize=(10,4))                  #Specify figure size in inches\n",
    "era.isel(time=-1)['sst'].plot(cmap='RdBu_r') #Plot using in-built xarray tools; isel() selects based on specified indices\n",
    "plt.savefig('sst.png')                      #Save the figure as a png file"
   ]
  },
  {
   "cell_type": "markdown",
   "id": "a43050ea-7d8f-466b-86c0-b90203df01b1",
   "metadata": {},
   "source": [
    "### Making a video\n",
    "\n",
    "Create a plotting function that takes a single argument (frame number) and makes a corresponding figure. The video is then a sequence of frames that can be encoded (compressed) into a conventional mp4 video format, which can also be embedded into this notebook."
   ]
  },
  {
   "cell_type": "code",
   "execution_count": null,
   "id": "1fff6c09-2fae-4511-817f-4a4e87c1b06a",
   "metadata": {},
   "outputs": [],
   "source": [
    "sst_video=era['sst'].sel(time=slice(\"2020\", \"2022\"))-273.15 #in Celcius now\n",
    "\n",
    "def animation_func(i):\n",
    "    fig.clear()\n",
    "    ax = plt.axes(projection=ccrs.PlateCarree())                  #specifying the projection such that coasline data could be added\n",
    "    sst_video.isel(time=i).plot(cmap='RdBu_r',vmin=0, vmax=30)    #plotting the data\n",
    "    ax.add_feature(cfeature.COASTLINE)                            #adding the coastline over the plotted data\n",
    "    ax.add_feature(cfeature.BORDERS)                              #adding the borders\n",
    "\n",
    "    plt.axis('off')\n",
    "\n",
    "fig = plt.figure(figsize=(10,4))\n",
    "animation = FuncAnimation(fig, animation_func, \n",
    "                          frames = len(sst_video.time))\n",
    "\n",
    "animation.save('sst.mp4') \n",
    "plt.close()"
   ]
  },
  {
   "cell_type": "code",
   "execution_count": null,
   "id": "213d9985-fa82-4c94-8899-42733671467b",
   "metadata": {},
   "outputs": [],
   "source": [
    "Video('sst.mp4') #display the video in the notebook"
   ]
  },
  {
   "cell_type": "code",
   "execution_count": null,
   "id": "31f701bc-bef1-49f2-9067-bf91dd45306b",
   "metadata": {},
   "outputs": [],
   "source": [
    "#if you're using google colab, the video will likely not display. One workaround is to encode the binary data into characters. Base64 is one of these types of encodings.\n",
    "from base64 import b64encode\n",
    " \n",
    "def show_video(video_path, video_width = 800):\n",
    "  video_file = open(video_path, \"r+b\").read()\n",
    "  video_url = f\"data:video/mp4;base64,{b64encode(video_file).decode()}\"\n",
    "  return HTML(f\"\"\"<video width={video_width} controls><source src=\"{video_url}\"></video>\"\"\")\n",
    "\n",
    "show_video('sst.mp4')"
   ]
  },
  {
   "cell_type": "code",
   "execution_count": null,
   "id": "a8c1c997-de0b-41f3-b18b-b799b08e6302",
   "metadata": {},
   "outputs": [],
   "source": []
  },
  {
   "cell_type": "markdown",
   "id": "3b7e7f6c-0664-450c-b035-63120ae005d5",
   "metadata": {},
   "source": [
    "## In-class exercise \\#1: Make a video of precipitation\n",
    "Follow the example above and make a video of total precipitation, which is the __'tp'__ variable in our __era__ xarray.\n",
    "\n",
    "First, make a single timeframe figure you are happy with; then, make a video out of all frames using  __animation__\n",
    "\n",
    "Search online for \"matplotlib colormaps\" to find a colormap of your liking to represent precipitation and specify it when plotting"
   ]
  },
  {
   "cell_type": "code",
   "execution_count": null,
   "id": "e4c98646-2dc4-460a-b474-fe2c20fe0456",
   "metadata": {},
   "outputs": [],
   "source": [
    "#Your code goes here"
   ]
  },
  {
   "cell_type": "markdown",
   "id": "cf20b302-877e-465f-99b4-4d6fc1657ff5",
   "metadata": {},
   "source": [
    "## Slicing the xarray\n",
    "\n",
    "Learn how to select ranges of variables:\n",
    "- The .sel()  selects variables by their ranges: era.sel(latitude > 30)\n",
    "- The .isel() selects based on the index of variables: era.isel(latidude = 604)"
   ]
  },
  {
   "cell_type": "markdown",
   "id": "3732e929-c682-411a-b89e-7d077d448009",
   "metadata": {},
   "source": [
    "### Data nearest to a point"
   ]
  },
  {
   "cell_type": "code",
   "execution_count": null,
   "id": "f17cef1a-c1d5-4d87-ac0e-5d0e54dddfa2",
   "metadata": {
    "tags": []
   },
   "outputs": [],
   "source": [
    "Lat_Seattle=47.6062      #Define the coordinates or a point of interests\n",
    "Lon_Seattle=360-122.3321  \n",
    "\n",
    "Lat_LA=34.0522;\n",
    "Lon_LA= -118.2437\n",
    "\n",
    "\n",
    "era_Seattle=era.sel(longitude=Lon_Seattle, \n",
    "                    latitude=Lat_Seattle, \n",
    "                    method=\"nearest\")     #Get the data from a point nearest to the desired lat/lon location\n",
    "\n",
    "era_LA=era.sel(longitude=Lon_LA, \n",
    "                    latitude=Lat_LA, \n",
    "                    method=\"nearest\")     #Get the data from a point nearest to the desired lat/lon location\n",
    "\n",
    "\n",
    "plt.figure(figsize=(12, 3)) \n",
    "era_Seattle['tp'].plot(label='Seattle')                  #xarray figured out that you only have timeseries and made an appropriate plot\n",
    "era_LA['tp'].plot(label='LA')                  #xarray figured out that you only have timeseries and made an appropriate plot\n",
    "plt.xlabel(''); plt.title('Monthly precipitation in Seattle');\n",
    "plt.legend()\n"
   ]
  },
  {
   "cell_type": "code",
   "execution_count": null,
   "id": "eb7b5d0f-c8df-4f1e-b75b-03adcfd31315",
   "metadata": {
    "tags": []
   },
   "outputs": [],
   "source": [
    "#Choosing different time slices \n",
    "\n",
    "era_Seattle_recent=era_Seattle.sel(time=slice(\"2000-01\", \"2022-01\")) # slice() creates a range of all values between the specified bounds\n",
    "\n",
    "plt.figure(figsize=(8,4))\n",
    "era_Seattle.plot.scatter(x='t2m_F',y='tp',color='blue',alpha=0.3) # scatter plot of surface temperature and precipitation in Seattle; \n",
    "era_Seattle_recent.plot.scatter(x='t2m_F',y='tp',color='red',alpha=0.7);  # highlight points from a chosen time range \n",
    "#the parameter alpha has a range [0,1] and makes points transparent\n"
   ]
  },
  {
   "cell_type": "markdown",
   "id": "c9634d6b-824f-42cd-b4cf-52f005004b19",
   "metadata": {},
   "source": [
    "As you can see from the plot above, higher precipitation is generally correlated with lower temperatures. Note that we are dealing with monthly-mean data, and the temperature variability is dominated by seasonal cycles. This implies that precipitation in Seattle is higher in winter than in summer. \n",
    "\n",
    "I bet it isn't raining right now as you going over the tutorial with us: am I wrong?"
   ]
  },
  {
   "cell_type": "markdown",
   "id": "38fbe3b6-df88-4df1-9c02-428b6eb38901",
   "metadata": {
    "tags": []
   },
   "source": [
    "### Nearest data to an array of points"
   ]
  },
  {
   "cell_type": "code",
   "execution_count": null,
   "id": "29b6e437-b5b7-4612-877f-15f6361a1de2",
   "metadata": {},
   "outputs": [],
   "source": [
    "point_lats=np.array([40.7128, 34.0522 ])            #define the lat/lon coordinates of the points\n",
    "point_lons=360-np.array([74.0060, 118.2437])\n",
    "\n",
    "point_lats=xr.DataArray(point_lats, dims=\"points\")  #create xarrays from those coordinates with a new dimension called for example \"points\"\n",
    "point_lons=xr.DataArray(point_lons, dims=\"points\")\n",
    "\n",
    "point_sst=era['t2m_F'].sel(latitude=point_lats, longitude=point_lons, \n",
    "                           method='nearest',tolerance=0.5)\n",
    "\n",
    "\n",
    "plt.figure(figsize=(12, 3)) \n",
    "plt.plot(point_sst.time,point_sst[:,0])\n",
    "plt.plot(point_sst.time,point_sst[:,1])\n",
    "plt.ylabel(point_sst.long_name + ', ' + point_sst.units)\n",
    "plt.title('Can you guess which two major US cities are these?');"
   ]
  },
  {
   "cell_type": "markdown",
   "id": "4e53adb7-771a-41d4-b7d2-064f32f6d5df",
   "metadata": {},
   "source": [
    "## Calculating weighted means\n",
    "\n",
    "Each pixel of the data represents an area of different sizes. Hence the global mean value can be significantly different from a pixel average. Make sure you do weighted averages! Below is an example of calculating a global mean temperature and its long-term trends"
   ]
  },
  {
   "cell_type": "code",
   "execution_count": null,
   "id": "7fb054a9-8ca8-4dc1-abd9-92e7de89817b",
   "metadata": {},
   "outputs": [],
   "source": [
    "sst=era['sst']\n",
    "\n",
    "weights = np.cos(np.deg2rad(era.latitude)); weights.name = \"weights\" # area of the cell scales as dlat*dlon*cos(lat) and we can use it to compute weighted averages; note, dlat=dlon for this dataset.\n",
    "\n",
    "SST_global_mean = sst.weighted(weights).mean(dim=['latitude','longitude']) # this IS area-weighted mean\n",
    "\n",
    "#The mean SST has long-term positive trend -- aka Global Warming! Let's calculate a running mean to more clearly see this trend\n",
    "\n",
    "SST_global_mean_runningMean=SST_global_mean.rolling(time=12*5,center=True).mean() # global mean smoothed over many months\n",
    "\n",
    "plt.figure(figsize=(10,5))\n",
    "SST_global_mean.plot(label=\"SST\" )\n",
    "SST_global_mean_runningMean.plot(label=\"SST rolling mean\", linewidth=5 );"
   ]
  },
  {
   "cell_type": "markdown",
   "id": "04edbbca-4f4a-4e3d-8163-7af2dc150748",
   "metadata": {},
   "source": [
    "## Calculating climatology and anomalies\n",
    "Since there is a very strong repeating seasonal cycle on Earth, it is often convenient to focus on deviations from this seasonal cycle, which are called anomalies.  \n",
    "\n",
    "Monthly climatology refers to variables that are averaged after being grouped by months. Anomalies are deviations from climatology. \n",
    "\n",
    "Let's see what temperature anomalies look like in the ocean and if they give a qualitatively different picture of the ocean variability."
   ]
  },
  {
   "cell_type": "code",
   "execution_count": null,
   "id": "6c8a737c-db28-487f-977c-e6947d93d0ad",
   "metadata": {},
   "outputs": [],
   "source": [
    "era_clim=era.groupby(\"time.month\").mean('time') # creating monthly mean climatology "
   ]
  },
  {
   "cell_type": "markdown",
   "id": "c5e7fd49-8b59-431f-b3cb-0e2c04c59681",
   "metadata": {},
   "source": [
    "## In-class exercise \\#2: calculating and plotting anomalies\n",
    "\n",
    "The strongest El Nino event on record was on December 1997. Calculate and plot the temperature of the ocean as an anomaly from its climatology at the time of the El Nino event.\n",
    "\n",
    "Instructions:\n",
    " - use xarray's .groupby(\"time.month\") option to group the original dataset by months first before subtracting from it the climatology; xarray figures out how to properly broadcast the arrays of different dimensions\n",
    " - name the anomaly array as __era_a__ and select the time of the El Nino event before plotting a map. \n",
    " - add to the plot the box of the so-called Nino3.4 index: an area of the tropical Pacific ocean where SST is strongly responding to ENSO events. The Nino34 box is bounded by latitude (-5,5) degrees and by longitude (190,240) degrees. You can use the plt.plot to add it, by specifying the coordinates of the box. Make sure to check that the box is in the right place!"
   ]
  },
  {
   "cell_type": "code",
   "execution_count": null,
   "id": "8b2f61c2-6fcf-4863-bd23-ab077f31967a",
   "metadata": {},
   "outputs": [],
   "source": [
    "#Your code for calculating the anomaly goes here\n",
    "era_a = era.groupby(\"time.month\")-era_clim      # xarray figures out broadcasting of arrays to take the difference between era(t) and era(month)"
   ]
  },
  {
   "cell_type": "code",
   "execution_count": null,
   "id": "800fd584-9a01-4630-aa17-11fc39f6834b",
   "metadata": {},
   "outputs": [],
   "source": [
    "#Plot the temperature anomaly for a strong El Nino event"
   ]
  },
  {
   "cell_type": "markdown",
   "id": "63161aef-736e-4f35-9ae0-a0a0cddaa95a",
   "metadata": {},
   "source": [
    "## El Niño -- Southern Oscillation (ENSO)\n",
    "\n",
    "El Niño is the warm phase of the El Niño–Southern Oscillation and is associated with a band of warm ocean water that develops in the central and east-central equatorial Pacific, including the area off the Pacific coast of South America. https://en.wikipedia.org/wiki/El_Ni%C3%B1o\n",
    "\n",
    "\n",
    "NOAA considers El Niño conditions to be present in the ocean when the Oceanic Nino Index (ONI) in that area, known as the Niño-3.4 region, is +0.5 or higher, meaning surface waters in the east-central tropical Pacific are 0.5 degrees Celsius (0.9 degrees Fahrenheit) or more warmer than average. https://www.climate.gov/news-features/understanding-climate/climate-variability-oceanic-ni%C3%B1o-index"
   ]
  },
  {
   "cell_type": "code",
   "execution_count": null,
   "id": "8ac19fed-7233-4b75-8f8b-e934ade72716",
   "metadata": {},
   "outputs": [],
   "source": [
    "NINO34 = era_a['sst'].sel(latitude=slice(5,-5), \n",
    "                  longitude=slice(190,240)).weighted(weights).mean(dim=['latitude','longitude'])\n",
    "\n",
    "ONI= NINO34.rolling(time=3,center=True).mean() #rolling mean over 3 months\n",
    "\n",
    "plt.figure(figsize=(10,3))\n",
    "ax=plt.gca()\n",
    "plt.plot(ONI.time, ONI,'k')\n",
    "ax.fill_between(ONI.time.data, 0.5, ONI, ONI> 0.5, color='red', alpha=.75)\n",
    "ax.fill_between(ONI.time.data, -0.5, ONI, ONI< -0.5, color='blue',  alpha=.75)\n",
    "plt.ylim((-4,4))\n",
    "plt.grid(visible=True)\n",
    "plt.ylabel('Oceanic Niño Index [$^\\circ C$]');"
   ]
  },
  {
   "cell_type": "markdown",
   "id": "9ec08cfe-83e2-4804-8e8e-ea9d0a2898d4",
   "metadata": {},
   "source": [
    "### Global mean temperature and ENSO\n",
    "\n",
    "To have a clearer view of how the global mean ocean temperature varies on interannual timescales, let's remove the long-term trends and explore their relation to ONI.\n"
   ]
  },
  {
   "cell_type": "code",
   "execution_count": null,
   "id": "51d65fc0-08f1-4671-9bd8-ec8f5df9567b",
   "metadata": {},
   "outputs": [],
   "source": [
    "SSTa_global_mean = era_a['sst'].weighted(weights).mean(dim=['latitude','longitude']) # this IS area-weighted mean\n",
    "SSTa_global_mean_runningMean=SSTa_global_mean.rolling(time=12*5,center=True).mean() # global anomaly mean smoothed over many months\n",
    "\n",
    "SSTa_global_mean_Detrended=(SSTa_global_mean-SSTa_global_mean_runningMean)\n",
    "\n",
    "plt.figure(figsize=(10,6))\n",
    "\n",
    "ax=plt.subplot(2,1,1)\n",
    "ONI.plot(ax=ax, xlim=('1955','2025'))\n",
    "plt.ylabel('Oceanic Niño Index [$^\\circ C$]');plt.ylim((-4,4))\n",
    "\n",
    "ax=plt.subplot(2,1,2)\n",
    "SSTa_global_mean_Detrended.plot(ax=ax, xlim=('1955','2025'))\n",
    "plt.ylabel(\"Detrended global mean SST anomaly\")\n",
    "plt.ylim((-0.4,0.4));"
   ]
  },
  {
   "cell_type": "markdown",
   "id": "8ccf0e47-114f-48d8-9ed2-f86053e059aa",
   "metadata": {},
   "source": [
    "### Calculating a correlation coefficient "
   ]
  },
  {
   "cell_type": "code",
   "execution_count": null,
   "id": "b77cd4c2-0fe6-4bec-8cb6-900552e941bb",
   "metadata": {},
   "outputs": [],
   "source": [
    "#Now we can clearly see the strong correlation between the Global Ocean Temperature and ENSO defined using NINO3 index\n",
    "x=ONI.data; y=SSTa_global_mean_Detrended.data\n",
    "x=x[~np.isnan(y)];  y=y[~np.isnan(y)] # remove nan that polyfit can't deal with\n",
    "\n",
    "correlation = np.corrcoef(x, y)[0,1] #calculate a correlation coefficient between ONI and global mean temperature anomaly \n",
    "\n",
    "print('correlation = ', correlation)"
   ]
  },
  {
   "cell_type": "markdown",
   "id": "20e68d4a-1e1f-49e5-a34f-29ef651c4efa",
   "metadata": {
    "tags": []
   },
   "source": [
    "## In-class exercise \\#3: conditional averages\n",
    "\n",
    "Calculate mean temperature and precipitation during El Nino and La Nina events. What patterns stand out to you?\n",
    "\n",
    "- Compute conditional averages \n",
    "- Make a figure with multiple maps of specified projections\n",
    "\n"
   ]
  },
  {
   "cell_type": "code",
   "execution_count": null,
   "id": "b83030b8-729b-42d6-b38b-55763d766c9f",
   "metadata": {},
   "outputs": [],
   "source": [
    "#Your code goes here"
   ]
  },
  {
   "cell_type": "markdown",
   "id": "56970923-83ff-4890-af0e-cc15d10e47ac",
   "metadata": {},
   "source": [
    "### Have a look at the \"PlottingMaps\" tutorial for examples of plots with different projections"
   ]
  },
  {
   "cell_type": "markdown",
   "id": "ff6d33c4-91f5-477a-b450-231a872b8b3b",
   "metadata": {},
   "source": [
    "# Take-home exercise: Seattle temperature and precipitation during El Nino and La Nina \n",
    "Figure out what happens in Seattle during ENSO events. Is it raining more or less? Is it hotter or colder? El Nino is defined as the ONI index being higher than 0.5 and La Nina lower than -0.5. \n",
    "\n",
    "- use our previously defined variable era_Seattle\n",
    "- use the groupby(\"time.month\") and mean('time') operations to calculate the climatology\n",
    "- define the anomaly as the difference between the groupped by time.month data and the climatology\n",
    "- calculate conditional averages of the anomaly fields for precipitation and temperature for La Nina (ONI<-0.5) and El Nino (ONI>0.5)\n",
    "- make some nice figures"
   ]
  },
  {
   "cell_type": "code",
   "execution_count": null,
   "id": "8b451b85-6a7f-45da-beca-e00dca31ee7b",
   "metadata": {},
   "outputs": [],
   "source": [
    "#your code goes here"
   ]
  }
 ],
 "metadata": {
  "kernelspec": {
   "display_name": "Python 3",
   "language": "python",
   "name": "python3"
  },
  "language_info": {
   "codemirror_mode": {
    "name": "ipython",
    "version": 3
   },
   "file_extension": ".py",
   "mimetype": "text/x-python",
   "name": "python",
   "nbconvert_exporter": "python",
   "pygments_lexer": "ipython3",
   "version": "3.7.6"
  }
 },
 "nbformat": 4,
 "nbformat_minor": 5
}
