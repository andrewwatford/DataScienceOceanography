{
 "cells": [
  {
   "cell_type": "markdown",
   "metadata": {
    "id": "ENND0AxsuBMb"
   },
   "source": [
    "# Marine Geology & Geophysics (MGG)"
   ]
  },
  {
   "cell_type": "markdown",
   "metadata": {
    "id": "PFVFfiovz4zf"
   },
   "source": [
    "<img src=\"WorldEarthquakeMap-1-1400x820.jpeg\">"
   ]
  },
  {
   "cell_type": "markdown",
   "metadata": {
    "id": "vphadX7UuK81"
   },
   "source": [
    "This tutorial is part of our Marine Geology and Geophysics day. It demonstrates how to do basic analysis and visualization of seafloor features, geologic, and seismic data. We will learn how to make maps of publicly available datasets of seafloor bathymetry, crustal age, and tectonic plate depth. We will then learn how to download data using python from the databases where seismic data are stored. Combining these techniques, we will learn to think like a geophysicist and use available data to draw connections between earthquake activity and geologic characteristics."
   ]
  },
  {
   "cell_type": "markdown",
   "metadata": {},
   "source": [
    "### Estimated tutorial time: 2 hours"
   ]
  },
  {
   "cell_type": "markdown",
   "metadata": {
    "id": "AJKt8JIMt3l-"
   },
   "source": [
    "## Tutorial Goals\n",
    "\n",
    "Python Skills\n",
    "  *   Download data from a remote database using URL queries\n",
    "  *   Make interactive plots that can be embedded with html\n",
    "  *   Plot detailed and attractive maps using both grid and point data\n",
    "  *   Co-locate datasets\n",
    "\n",
    "MG&G Knowledge\n",
    "  *   Learn about how bathymetry is influenced by earth processes\n",
    "  *   Understand how earthquake data are stored and used\n",
    "  *   Visualize how earthquakes are tied to tectonic processes\n"
   ]
  },
  {
   "cell_type": "markdown",
   "metadata": {},
   "source": [
    "## Data\n",
    "\n",
    "- Earthquakes: the vast majority of seismic data is stored by IRIS, the Incorporated Research Institutions for Seismology.\n",
    "- Bathymetry: the Global Multi-Resolution Topography (GMRT) synthesis is a multi-resolutional compilation of edited multibeam sonar data  https://www.gmrt.org\n",
    "- Slab depth: Slab2 data is publicly available and can be downloaded at https://www.sciencebase.gov/catalog/item/5aa1b00ee4b0b1c392e86467/"
   ]
  },
  {
   "cell_type": "markdown",
   "metadata": {
    "id": "_mZsqVyOy05I"
   },
   "source": [
    "## Reading\n",
    "\n",
    "Yeats, R. S. (2004). Living with earthquakes in the Pacific Northwest. https://open.oregonstate.education/earthquakes/chapter/earthquakes-in-the-juan-de-fuca-plate/\n",
    "\n",
    "\n",
    "Bilek, Susan L., Susan Y. Schwartz, and Heather R. DeShon. \"Control of seafloor roughness on earthquake rupture behavior.\" Geology 31.5 (2003): 455-458.\n",
    "\n",
    "https://pubs.geoscienceworld.org/gsa/geology/article/31/5/455/198278/Control-of-seafloor-roughness-on-earthquake"
   ]
  },
  {
   "cell_type": "markdown",
   "metadata": {},
   "source": [
    "# Let's start!"
   ]
  },
  {
   "cell_type": "markdown",
   "metadata": {
    "id": "ZC3mA4Q7xT82"
   },
   "source": [
    "## Environment set-up"
   ]
  },
  {
   "cell_type": "code",
   "execution_count": null,
   "metadata": {},
   "outputs": [],
   "source": [
    "import matplotlib.pyplot as plt\n",
    "import pandas as pd\n",
    "import numpy as np\n",
    "import xarray as xr  #loading and working with data in an optimal way.\n",
    "\n",
    "\n",
    "import obspy\n",
    "from obspy.clients.fdsn import Client\n",
    "\n",
    "import plotly.express as px\n",
    "\n",
    "import wget\n",
    "\n",
    "import cartopy.crs as ccrs         # to plot maps with different projections\n",
    "import cartopy.feature as cfeature # to plot coastlines, land, borders, etc.\n",
    "\n",
    "from matplotlib.colors import LightSource\n",
    "\n",
    "import os.path # to check if files already exist\n"
   ]
  },
  {
   "cell_type": "markdown",
   "metadata": {
    "id": "zJSRWZKo6d9J"
   },
   "source": [
    "# Downloading earthquake data"
   ]
  },
  {
   "cell_type": "markdown",
   "metadata": {},
   "source": [
    "The vast majority of seismic data is stored by IRIS, the *Incorporated Research Institutions for Seismology*.\n",
    "\n",
    "IRIS stores seismometer waveform time series, seismometer station information, earthquake catalog data, and many, many, more seismic-related data products.\n",
    "\n",
    "Much of the data we will be using today comes from IRIS, and we can download it remotely from this python notebook using the Number 1 package in seismology, obsPy!\n",
    "\n",
    "https://docs.obspy.org/\n",
    "\n",
    "obsPy connects to seismic databases using a client (see below). There are many other global clients but today we'll be connecting to IRIS. First, we are going to download earthquake data."
   ]
  },
  {
   "cell_type": "code",
   "execution_count": 2,
   "metadata": {
    "id": "t1Zl-CTK6hGJ"
   },
   "outputs": [],
   "source": [
    "# Prepare to connect to the earthquake database, called IRIS\n",
    "client = Client(\"IRIS\")"
   ]
  },
  {
   "cell_type": "code",
   "execution_count": 4,
   "metadata": {
    "id": "OnZ-9CRZ6vtA"
   },
   "outputs": [],
   "source": [
    "# Specify what times you want the data for\n",
    "t1 = obspy.UTCDateTime(2010,7,1)\n",
    "t2 = obspy.UTCDateTime(2022,7,1)\n",
    "\n",
    "# Specify the minimum magnitude earthquake you want\n",
    "minmagnitude = 6\n",
    "\n",
    "# Note - you can also specify minimum/maximum latitudes/longitudes to get the data for.\n",
    "# But for now, we won't specify\n",
    "minlat = None\n",
    "maxlat = None\n",
    "minlon = None\n",
    "maxlon = None\n",
    "\n",
    "# Query the earthquake database to create a catalog of earthquakes within your specified timeframe\n",
    "cat = client.get_events(starttime = t1, \n",
    "                        endtime = t2,\n",
    "                        minmagnitude=minmagnitude,\n",
    "                        minlatitude=minlat,\n",
    "                        minlongitude=minlon,\n",
    "                        maxlatitude=maxlat,\n",
    "                        maxlongitude=maxlon)"
   ]
  },
  {
   "cell_type": "markdown",
   "metadata": {},
   "source": [
    "#### We now have a catalog object, which we see contains a number of earthquakes:"
   ]
  },
  {
   "cell_type": "code",
   "execution_count": 5,
   "metadata": {},
   "outputs": [
    {
     "data": {
      "text/plain": [
       "Event:\t2013-10-12T02:10:28.910000Z | +10.836,  -62.303 | 6.0  MW\n",
       "\n",
       "\t            resource_id: ResourceIdentifier(id=\"smi:service.iris.edu/fdsnws/event/1/query?eventid=4310668\")\n",
       "\t             event_type: 'earthquake'\n",
       "\t    preferred_origin_id: ResourceIdentifier(id=\"smi:service.iris.edu/fdsnws/event/1/query?originid=12443274\")\n",
       "\t preferred_magnitude_id: ResourceIdentifier(id=\"smi:service.iris.edu/fdsnws/event/1/query?magnitudeid=202023380\")\n",
       "\t                   ---------\n",
       "\t     event_descriptions: 1 Elements\n",
       "\t                origins: 1 Elements\n",
       "\t             magnitudes: 1 Elements"
      ]
     },
     "execution_count": 5,
     "metadata": {},
     "output_type": "execute_result"
    }
   ],
   "source": [
    "cat[1234]"
   ]
  },
  {
   "cell_type": "markdown",
   "metadata": {},
   "source": [
    "#### We see that we can access individual earthquakes in the catalog by indexing, and we see that they have origin and magnitude information:"
   ]
  },
  {
   "cell_type": "code",
   "execution_count": null,
   "metadata": {},
   "outputs": [],
   "source": [
    "N=123\n",
    "print('Description', cat[N].event_descriptions[0].text)\n",
    "print('Magnitude  ', cat[N].magnitudes[0].mag)\n",
    "print('Time       ', cat[N].origins[0].time.datetime)\n",
    "print('Depth      ', cat[N].origins[0].depth)\n",
    "print('Longitude  ', cat[N].origins[0].longitude)\n",
    "print('Latitude   ', cat[N].origins[0].latitude)"
   ]
  },
  {
   "cell_type": "markdown",
   "metadata": {},
   "source": [
    "#### The time, location (lat, lon, depth), and magnitude information is of most interest to us. We can take this information for each earthquake and organize it more neatly into a tabular format as a pandas dataframe."
   ]
  },
  {
   "cell_type": "code",
   "execution_count": 7,
   "metadata": {
    "id": "Jh2rKboT7ALh"
   },
   "outputs": [],
   "source": [
    "def catalog2pandas(cat): # Reorganize the Event Catalog into a pandas dataframe, keeping only the needed information\n",
    "    \n",
    "    times  = [ev.origins[0].time.datetime for ev in cat]\n",
    "    lats   = [ev.origins[0].latitude for ev in cat]\n",
    "    lons   = [ev.origins[0].longitude for ev in cat]\n",
    "    mags   = [ev.magnitudes[0].mag for ev in cat]\n",
    "    depths = [ev.origins[0].depth for ev in cat]\n",
    "    \n",
    "    descriptions=[ev.event_descriptions[0]['text'] for ev in cat]\n",
    "\n",
    "    origin_dict = {'time':times,\n",
    "                   'latitude':lats,\n",
    "                   'longitude':lons,\n",
    "                   'depth':depths,\n",
    "                   'magnitude':mags, \n",
    "                   'description':descriptions}\n",
    "\n",
    "    events = pd.DataFrame.from_dict(origin_dict)\n",
    "    \n",
    "    events=events.sort_values(by='time'); \n",
    "    \n",
    "    return events"
   ]
  },
  {
   "cell_type": "code",
   "execution_count": null,
   "metadata": {},
   "outputs": [],
   "source": [
    "events=catalog2pandas(cat)\n",
    "events"
   ]
  },
  {
   "cell_type": "markdown",
   "metadata": {
    "id": "gdM4_-eJ8coM"
   },
   "source": [
    "# Interactive maps of global earthquakes"
   ]
  },
  {
   "cell_type": "markdown",
   "metadata": {
    "id": "8MDBP0Ot8g7Z"
   },
   "source": [
    "#### Now that we have our basic earthquake information, let's visualize where they are in the world! Here we'll make some cool interactive maps that you can access as an html product. To do so we will use the package called plotly."
   ]
  },
  {
   "cell_type": "markdown",
   "metadata": {},
   "source": [
    "#### Make a histogram of earthquake magnitudes"
   ]
  },
  {
   "cell_type": "code",
   "execution_count": 13,
   "metadata": {},
   "outputs": [],
   "source": [
    "# Note: in order to make sure that the plotly figures appear in the jupyter notebook, \n",
    "# you may have to execute the following commands:\n",
    "\n",
    "import plotly.io as pio\n",
    "pio.renderers.default = 'iframe'"
   ]
  },
  {
   "cell_type": "code",
   "execution_count": null,
   "metadata": {},
   "outputs": [],
   "source": [
    "fig = px.histogram(events,   #specify what dataframe to use\n",
    "             x=\"magnitude\",  #specify the variable for the histogram \n",
    "             nbins=50,       #number of bins for the histogram \n",
    "             height=400,     #dimensions of the figure\n",
    "             width=600);\n",
    "fig.show()"
   ]
  },
  {
   "cell_type": "markdown",
   "metadata": {
    "tags": []
   },
   "source": [
    "#### Now make an animated map of the earth that iterates through time\n",
    "\n",
    "Let's add the __year__ and __marker_size__ as new columns to our dataframe to help us visualize earthquakes on a geographic map"
   ]
  },
  {
   "cell_type": "code",
   "execution_count": 15,
   "metadata": {},
   "outputs": [],
   "source": [
    "events['year'] = pd.DatetimeIndex(events['time']).year # add year as a category to group by\n",
    "events['marker_size'] =np.fix(np.exp(events['magnitude'])) # add marker size as exp(mag)\n",
    "events['magnitude bin'] = 0.5*np.fix(2*events['magnitude']) # add marker size as exp(mag)"
   ]
  },
  {
   "cell_type": "code",
   "execution_count": null,
   "metadata": {},
   "outputs": [],
   "source": [
    "events2plot=events.loc[events.magnitude>5.5].sort_values(by='magnitude bin')\n",
    "\n",
    "fig = px.scatter_geo(events2plot,\n",
    "                     lat='latitude',lon='longitude', \n",
    "                     size='marker_size', color='magnitude',\n",
    "                     hover_name='description', hover_data=['magnitude','depth', 'year'], \n",
    "                     range_color=(6,9),\n",
    "                     height=800, width=1400,\n",
    "                     animation_frame=\"year\");\n",
    "fig.update_geos(resolution=110, showcountries=True)"
   ]
  },
  {
   "cell_type": "markdown",
   "metadata": {},
   "source": [
    "## In-class exercise \\#1: look at all earthquakes on a spinning globe\n",
    "\n",
    "Use an Orthographic projection to look at all earthquakes on a spinning globe. \n",
    "\n",
    "Instructions: \n",
    "   - Remove the __animation_frame__ parameter as we want to plot single image. \n",
    "   - update_geos with a parameter __projection_type='orthographic'__\n",
    "   - This time save the interactive figure to html using fig.write_html('filename.html')\n",
    "   - Download the html file: it can now be embedded in a website!  "
   ]
  },
  {
   "cell_type": "code",
   "execution_count": 11,
   "metadata": {},
   "outputs": [],
   "source": [
    "#Your solution goes here"
   ]
  },
  {
   "cell_type": "markdown",
   "metadata": {
    "id": "xaK9U3ax8_uw"
   },
   "source": [
    "As you can see on the interactive maps, a particularly active location is an area off the coast of the northwest United States. To see why this might be, we can look at the topography of the seafloor in that area. We call seafloor topography data \"bathymetry\".\n"
   ]
  },
  {
   "cell_type": "markdown",
   "metadata": {},
   "source": [
    "# Juan de Fuca plate\n",
    "<img src=\"Juan de Fuca plate.jpeg\" width=800>"
   ]
  },
  {
   "cell_type": "markdown",
   "metadata": {},
   "source": [
    "Let's zoom in on our location of interest and start to look at the bathymetry of the ocean floor at that location, to see it suggests a connection between the earthquake locations and seafloor features."
   ]
  },
  {
   "cell_type": "markdown",
   "metadata": {
    "id": "KGGGnONw926O"
   },
   "source": [
    "Bathymetry datasets are compiled from decades of ship-based seafloor mapping. Scientists work really hard to make this data available to the community. Marine geophysicists primarily get their bathymetry data from the GMRT dataset:\n",
    "\n",
    "*\"The Global Multi-Resolution Topography (GMRT) synthesis is a multi-resolutional compilation of edited multibeam sonar data collected by scientists and institutions worldwide, that is reviewed, processed and gridded by the GMRT Team and merged into a single continuously updated compilation of global elevation data\"*\n",
    "\n",
    "\n",
    "see https://www.gmrt.org/ for more information.\n",
    "\n",
    "### Building a URL to download data from the GMRT database"
   ]
  },
  {
   "cell_type": "code",
   "execution_count": 18,
   "metadata": {
    "id": "dNOpm27l94HU"
   },
   "outputs": [
    {
     "name": "stdout",
     "output_type": "stream",
     "text": [
      "GMRTv4_0_20220724topo.grd\n"
     ]
    }
   ],
   "source": [
    "# We build a URL which will automatically download a bathymetry grid to our specifications\n",
    "url = 'https://www.gmrt.org/services/GridServer?north={maxlat}&west={minlon}&east={maxlon}&south={minlat}&layer=topo&format=netcdf&resolution=high' \n",
    "\n",
    "# Specify coordinates for the bathymetry grid we want\n",
    "url=url.format(maxlat=50,\n",
    "               minlon=-135,\n",
    "               maxlon=-120,\n",
    "               minlat=39)\n",
    "\n",
    "topo_data='GMRTv4_0_20220724topo.grd'\n",
    "\n",
    "if os.path.isfile(topo_data)==False:\n",
    "    print('Downloading GMRT topography')\n",
    "    print(url)\n",
    "    topo_data=wget.download(url)\n",
    "\n",
    "print(topo_data)"
   ]
  },
  {
   "cell_type": "markdown",
   "metadata": {
    "id": "ZzPgFNcuADET"
   },
   "source": [
    "### The bathymetry is a netcdf file but in a .grd format: let's change it to a more convenient array format."
   ]
  },
  {
   "cell_type": "code",
   "execution_count": 19,
   "metadata": {
    "id": "D7Ji3u8ZACDf"
   },
   "outputs": [],
   "source": [
    "# Load the downloaded bathymetry data into xarray\n",
    "topo=xr.open_dataset(topo_data)\n",
    "dim=np.flip(topo.dimension).values\n",
    "z=topo.z.values\n",
    "z=z.reshape(dim)\n",
    "z[np.isnan(z)]=0;\n",
    "\n",
    "x=np.linspace(topo.x_range[0],topo.x_range[1],dim[1])\n",
    "y=np.linspace(topo.y_range[1],topo.y_range[0],dim[0])"
   ]
  },
  {
   "cell_type": "markdown",
   "metadata": {},
   "source": [
    "### Creating a function that plots nicely the relief data"
   ]
  },
  {
   "cell_type": "code",
   "execution_count": 20,
   "metadata": {},
   "outputs": [],
   "source": [
    "def plot_elevation(x,y,z, shade=True):\n",
    "    \n",
    "    #This deals with specified longitude ranges outside +-180 \n",
    "    central_longitude=0\n",
    "    \n",
    "    if np.max(x)>180: \n",
    "        central_longitude=180\n",
    "    if np.min(x)<-180: \n",
    "        central_longitude=-180\n",
    "        \n",
    "    x=x-central_longitude            \n",
    "        \n",
    "    if np.max(abs(x)>180):\n",
    "        print('Check longitude range!')\n",
    "        return np.nan       \n",
    "    \n",
    "    #specifying the colormap and its limits\n",
    "    cmap = plt.get_cmap('terrain') \n",
    "    vmin = np.min(z) \n",
    "    vmax = np.max(z)\n",
    "\n",
    "    #creating a shaded image with specified light source location\n",
    "    if shade: \n",
    "        ls = LightSource(azdeg=315, altdeg=45)\n",
    "        z = ls.shade(z, cmap=cmap,blend_mode='overlay',vert_exag=0.1)\n",
    "\n",
    "    \n",
    "    #set appropriate aspect ratio; otherwise, images are shown with 1:1 aspect ratio\n",
    "    aspect=1/np.cos(np.pi/180*np.mean(y));  # aspect ratio = 1 degree lat in km over 1degree lon in km = 1/cos(lat)\n",
    "\n",
    "    #setting a projection; the fastest is PlateCarree because that's where the lat/lon elevation data is defined \n",
    "    ax = plt.axes(projection=ccrs.PlateCarree(central_longitude=central_longitude))\n",
    "\n",
    "    gl=ax.gridlines(draw_labels=True)\n",
    "    gl.top_labels = False\n",
    "    gl.right_labels = False\n",
    "    gl.xlines=None\n",
    "    gl.ylines=None\n",
    "    \n",
    "    cax=plt.imshow(z, \n",
    "                   cmap=cmap,\n",
    "                   vmin=vmin, vmax=vmax,\n",
    "                   extent=[min(x),max(x),min(y),max(y)], \n",
    "                   aspect=aspect)\n",
    "    plt.colorbar(cax, shrink =0.25)\n",
    "    ax.add_feature(cfeature.COASTLINE)\n",
    "    return ax"
   ]
  },
  {
   "cell_type": "markdown",
   "metadata": {},
   "source": [
    "### Plot topography together with the earthquake data"
   ]
  },
  {
   "cell_type": "code",
   "execution_count": null,
   "metadata": {},
   "outputs": [],
   "source": [
    "plt.figure(figsize=(20,20))\n",
    "\n",
    "ax=plot_elevation(x,y,z, shade=True) #shade=False is faster but less cool\n",
    "\n",
    "ind= (events.longitude>min(x)) & (events.longitude<max(x)) & (events.latitude>min(y)) & (events.latitude<max(y)); # selecting only those points that are within our bathymetry area\n",
    "\n",
    "plt.scatter(events[ind].longitude,\n",
    "            events[ind].latitude,\n",
    "            events[ind].marker_size, \n",
    "            color='r',alpha=0.7, \n",
    "            transform=ccrs.PlateCarree())"
   ]
  },
  {
   "cell_type": "markdown",
   "metadata": {
    "id": "hYhsALEcA7_L"
   },
   "source": [
    "Do any features in the bathymetry stand out to you? Remember the diagram of geologic processes in the PNW above- do you think any of the bathymetric features connect to the geologic processes?\n",
    "\n",
    "Let's see how our earthquake locations (which we previously saved as \"lats\" and \"lons\" arrays) relate to bathymetry."
   ]
  },
  {
   "cell_type": "markdown",
   "metadata": {
    "id": "QBKE-dkcBs8p",
    "tags": []
   },
   "source": [
    "# In-class exercise \\#2: Juan de Fuca - Earthquakes\n",
    "\n",
    "We can see there aren't too many large earthquakes occurring throughout the whole region. To get a better sense of the full scope of activity, we should plot earthquakes of smaller magnitude.\n",
    "\n",
    "Download earthquakes with a minimum magnitude of 2.5 for the chosen region from IRIS. Plot those earthquakes on the bathymetry map, with their size relating to magnitude."
   ]
  },
  {
   "cell_type": "code",
   "execution_count": 16,
   "metadata": {},
   "outputs": [],
   "source": [
    "#your solution goes here"
   ]
  },
  {
   "cell_type": "markdown",
   "metadata": {
    "id": "7kZfsj86DlN-"
   },
   "source": [
    "We see that some of the earthquakes align with the bathymetric high that runs roughly north-south in the region. That is called the Juan de Fuca Ridge, a mid-ocean spreading ridge where new seafloor is created. \n",
    "\n",
    "But, we see there is actually more activity on the northern end of the ridge and on the features in the south that run roughly east-west. That is because the tectonic plate boundaries in these areas are transitioning between types, leading to break-up of the tectonic plates.\n",
    "\n",
    "To the north, seafloor spreading intersects the Cascadia subduction zone and the Queen Charlotte transform fault, which lead to the formation of the Explorer microplate.\n",
    "\n",
    "To the south, the Blanco and Mendocino transform zones also outline a smaller plate, the Gorda plate.\n",
    "\n",
    "Check out the first paper in the \"reading\" section for more detail!"
   ]
  },
  {
   "cell_type": "markdown",
   "metadata": {},
   "source": [
    "# Earthquakes and Slab Depth\n",
    " \n",
    "Geophysical imaging techniques allow us to \"see\" into the earth and define the depth and shape of a tectonic plate as it subducts beneath another. \n",
    " \n",
    "This analysis has been compiled into a dataset of \"slab depths\" for subduction zones around the globe:\n",
    "\n",
    "Hayes, G. P., Moore, G. L., Portner, D. E., Hearne, M., Flamme, H., Furtney, M., & Smoczyk, G. M. (2018). Slab2, a comprehensive subduction zone geometry model. Science, 362(6410), 58-61.\n",
    "https://www.science.org/doi/full/10.1126/science.aat4723\n",
    "\n",
    "Slab2 data is publicly available and can be downloaded at https://www.sciencebase.gov/catalog/item/5aa1b00ee4b0b1c392e86467/\n",
    "\n",
    "<img src=\"Slab_depths.jpeg\" width=800>"
   ]
  },
  {
   "cell_type": "markdown",
   "metadata": {},
   "source": [
    "Here we will look at the depth of the Pacific plate as it subducts beneath Alaska and the Aleutian arc. The grd file has already been downloaded to this directory:"
   ]
  },
  {
   "cell_type": "code",
   "execution_count": 22,
   "metadata": {},
   "outputs": [],
   "source": [
    "slab_data = 'alu_slab2_dep_02.23.18.grd'"
   ]
  },
  {
   "cell_type": "code",
   "execution_count": 23,
   "metadata": {},
   "outputs": [],
   "source": [
    "minlat = 45\n",
    "maxlat = 65\n",
    "minlon = -200 # note- this is not best practice to put longitude as greater than 180 but some packages require it\n",
    "maxlon = -145\n",
    "\n",
    "slab=xr.open_dataset(slab_data)\n",
    "x_slab=slab.x.values\n",
    "y_slab=slab.y.values\n",
    "z_slab=slab.z.values\n",
    "z_slab=np.flipud(z_slab)\n",
    "z_slab[np.isnan(z_slab)]=0"
   ]
  },
  {
   "cell_type": "code",
   "execution_count": null,
   "metadata": {},
   "outputs": [],
   "source": [
    "plt.figure(figsize=(20,20))\n",
    "ax=plot_elevation(x_slab,y_slab,z_slab, shade=False)"
   ]
  },
  {
   "cell_type": "markdown",
   "metadata": {},
   "source": [
    "Further reading about Alaskan seismicity: https://earthquake.alaska.edu/earthquakes/about"
   ]
  },
  {
   "cell_type": "markdown",
   "metadata": {},
   "source": [
    "# In-class exercise \\#3: Earthquake locations and slab depth\n",
    " \n",
    "- Download and plot earthquake locations on top of the slab depth data.\n",
    "- Is there any correspondence between slab depth and earthquake properties?\n"
   ]
  },
  {
   "cell_type": "code",
   "execution_count": 20,
   "metadata": {},
   "outputs": [],
   "source": [
    "#your solution goes here"
   ]
  },
  {
   "cell_type": "markdown",
   "metadata": {},
   "source": [
    "## Take-home exercise: slab depth vs earthquake depth\n",
    "\n",
    "Figure out the depth of earthquakes with respect to slab depth\n",
    "\n",
    "Instructions:\n",
    " - use xarray to sample the slab values at lat/lon locations of the earthquakes \n",
    " - make a scatter plot of earthquake depth vs slab depth and plot a 1:1 line for reference"
   ]
  },
  {
   "cell_type": "code",
   "execution_count": 21,
   "metadata": {},
   "outputs": [],
   "source": [
    "# your solution goes here"
   ]
  }
 ],
 "metadata": {
  "colab": {
   "collapsed_sections": [],
   "name": "MGG_Datascience_Tutorial.ipynb",
   "provenance": [],
   "toc_visible": true
  },
  "kernelspec": {
   "display_name": "Python [conda env:root] *",
   "language": "python",
   "name": "conda-root-py"
  },
  "language_info": {
   "codemirror_mode": {
    "name": "ipython",
    "version": 3
   },
   "file_extension": ".py",
   "mimetype": "text/x-python",
   "name": "python",
   "nbconvert_exporter": "python",
   "pygments_lexer": "ipython3",
   "version": "3.7.6"
  }
 },
 "nbformat": 4,
 "nbformat_minor": 4
}
