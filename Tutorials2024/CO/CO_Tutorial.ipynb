{
 "cells": [
  {
   "cell_type": "markdown",
   "metadata": {},
   "source": [
    "# Chemical Oceanography (CO)\n",
    "\n",
    "<img src=\"rosette-launch.jpeg\"/>\n",
    "\n",
    "\n",
    "This tutorial is part of our Chemical Oceanography day. It demonstrates how to do basic analysis and visualization of chemical element observations in the ocean. The biogeochemical observations on oceanographic research cruises are commonly collected using a Rosette. It is a framework with many sampling bottles clustered around a central cylinder, where other continuous sensor packages can be attached. We'll access typical observations collected via Rosette casts using a variety of methods and try to verify a few fundamental oceanographic principles. \n",
    "\n",
    "\n",
    "### Estimated tutorial time: 2 hours\n",
    "\n",
    "## Tutorial goals\n",
    "\n",
    "- Python Skills\n",
    "    - Work with dataframes\n",
    "    - Make different statistical plots\n",
    "- CO knowledge\n",
    "    - Learn about the distribution of nutrients in the ocean \n",
    "    - Understand the acidification and deoxygenation in the ocean\n",
    "    - Explore the Redfield ratio\n",
    "    \n",
    "## Data\n",
    "\n",
    "- HOT: Hawaii Ocean Time series. Since 1988, the Station ALOHA near Hawaii has been sampled approximately every month as part of the HOT cruises. https://hahana.soest.hawaii.edu/hot/. This data can also be downloaded using CMAP API: https://simonscmap.com/catalog/datasets/HOT_Bottle_ALOHA. \n",
    "    \n",
    "## Reading \n",
    "\n",
    "Ocean acidification https://www.noaa.gov/education/resource-collections/ocean-coasts/ocean-acidification\n",
    "\n",
    "\n",
    "Gruber, N., & Deutsch, C. A. (2014). Redfield's evolving legacy. Nature Geoscience, 7(12), 853-855. https://www.nature.com/articles/ngeo2308\n",
    "\n",
    "Moore, C. M., Mills, M. M., Arrigo, K. R., Berman-Frank, I., Bopp, L., Boyd, P. W., ... & Ulloa, O. (2013). Processes and patterns of oceanic nutrient limitation. Nature geoscience, 6(9), 701-710. https://www.nature.com/articles/ngeo1765\n",
    "\n",
    "\n",
    "# Let's start!"
   ]
  },
  {
   "cell_type": "code",
   "execution_count": 36,
   "metadata": {},
   "outputs": [],
   "source": [
    "import pandas as pd\n",
    "import numpy as np\n",
    "import pycmap\n",
    "import plotly.express as px\n",
    "\n",
    "import matplotlib.pyplot as plt\n",
    "\n",
    "import cartopy.crs as ccrs         # to plot maps with different projections\n",
    "import cartopy.feature as cfeature # to plot coastlines, land, borders, etc."
   ]
  },
  {
   "cell_type": "markdown",
   "metadata": {},
   "source": [
    "## Examples of ocean data repositories:  BCO-DMO, CMAP\n",
    "\n",
    "The **B**iological and **C**hemical **O**ceanography **D**ata **M**anagement **O**ffice is sponsored by NSF and contains an enormous amount of data from many, many cruises - nearly all of those sponsored by the foundation - in open-access formats that are available to the public. https://www.bco-dmo.org/\n",
    "\n",
    "\n",
    "To download the data using API, please register at CMAP and generate your API key following this link https://simonscmap.com/apikeymanagement\n"
   ]
  },
  {
   "cell_type": "markdown",
   "metadata": {},
   "source": [
    "## Specific example: Hawaii Ocean Time series (HOT)\n",
    "\n",
    "Navigate through this website https://hahana.soest.hawaii.edu/hot/dataaccess.html and you wil find a place to download data in the ASCII format that is commonly used in oceanographic community. \n",
    "\n",
    "Here is one example file with the CTD data that you can just open in your web browser: https://hahana.soest.hawaii.edu/FTP/hot/ctd/hot-325/h325a0101.ctd. The README file for the HOT data can be found at the first level of the FTP link. In this README file we can learn what the filename -__h325a0101__ meant (HOT 325, Station 1, Cast 1), what the structure of the file is (consistent line length of 65 characters, six header lines) and details about each of the columns. "
   ]
  },
  {
   "cell_type": "markdown",
   "metadata": {},
   "source": [
    "### Finally we can meaningfully load the HOT data "
   ]
  },
  {
   "cell_type": "code",
   "execution_count": 37,
   "metadata": {},
   "outputs": [
    {
     "data": {
      "text/html": [
       "<div>\n",
       "<style scoped>\n",
       "    .dataframe tbody tr th:only-of-type {\n",
       "        vertical-align: middle;\n",
       "    }\n",
       "\n",
       "    .dataframe tbody tr th {\n",
       "        vertical-align: top;\n",
       "    }\n",
       "\n",
       "    .dataframe thead th {\n",
       "        text-align: right;\n",
       "    }\n",
       "</style>\n",
       "<table border=\"1\" class=\"dataframe\">\n",
       "  <thead>\n",
       "    <tr style=\"text-align: right;\">\n",
       "      <th></th>\n",
       "      <th>pressure</th>\n",
       "      <th>temperature</th>\n",
       "      <th>salinity</th>\n",
       "      <th>oxygen</th>\n",
       "      <th>nitrate</th>\n",
       "      <th>chlorophyll</th>\n",
       "    </tr>\n",
       "  </thead>\n",
       "  <tbody>\n",
       "    <tr>\n",
       "      <th>0</th>\n",
       "      <td>0.0</td>\n",
       "      <td>26.8851</td>\n",
       "      <td>34.7367</td>\n",
       "      <td>203.1</td>\n",
       "      <td>100.552</td>\n",
       "      <td>0.1607</td>\n",
       "    </tr>\n",
       "    <tr>\n",
       "      <th>1</th>\n",
       "      <td>2.0</td>\n",
       "      <td>26.6116</td>\n",
       "      <td>34.7367</td>\n",
       "      <td>203.1</td>\n",
       "      <td>96.018</td>\n",
       "      <td>-0.0203</td>\n",
       "    </tr>\n",
       "    <tr>\n",
       "      <th>2</th>\n",
       "      <td>4.0</td>\n",
       "      <td>26.6229</td>\n",
       "      <td>34.7369</td>\n",
       "      <td>203.2</td>\n",
       "      <td>99.220</td>\n",
       "      <td>0.0413</td>\n",
       "    </tr>\n",
       "    <tr>\n",
       "      <th>3</th>\n",
       "      <td>6.0</td>\n",
       "      <td>26.6095</td>\n",
       "      <td>34.7370</td>\n",
       "      <td>203.4</td>\n",
       "      <td>99.217</td>\n",
       "      <td>0.1478</td>\n",
       "    </tr>\n",
       "    <tr>\n",
       "      <th>4</th>\n",
       "      <td>8.0</td>\n",
       "      <td>26.6003</td>\n",
       "      <td>34.7368</td>\n",
       "      <td>203.3</td>\n",
       "      <td>99.212</td>\n",
       "      <td>0.1610</td>\n",
       "    </tr>\n",
       "    <tr>\n",
       "      <th>...</th>\n",
       "      <td>...</td>\n",
       "      <td>...</td>\n",
       "      <td>...</td>\n",
       "      <td>...</td>\n",
       "      <td>...</td>\n",
       "      <td>...</td>\n",
       "    </tr>\n",
       "    <tr>\n",
       "      <th>507</th>\n",
       "      <td>1014.0</td>\n",
       "      <td>4.1011</td>\n",
       "      <td>34.5059</td>\n",
       "      <td>49.5</td>\n",
       "      <td>99.748</td>\n",
       "      <td>0.1132</td>\n",
       "    </tr>\n",
       "    <tr>\n",
       "      <th>508</th>\n",
       "      <td>1016.0</td>\n",
       "      <td>4.0939</td>\n",
       "      <td>34.5061</td>\n",
       "      <td>49.5</td>\n",
       "      <td>99.748</td>\n",
       "      <td>0.1137</td>\n",
       "    </tr>\n",
       "    <tr>\n",
       "      <th>509</th>\n",
       "      <td>1018.0</td>\n",
       "      <td>4.0859</td>\n",
       "      <td>34.5064</td>\n",
       "      <td>49.5</td>\n",
       "      <td>99.749</td>\n",
       "      <td>0.1124</td>\n",
       "    </tr>\n",
       "    <tr>\n",
       "      <th>510</th>\n",
       "      <td>1020.0</td>\n",
       "      <td>4.0855</td>\n",
       "      <td>34.5062</td>\n",
       "      <td>49.6</td>\n",
       "      <td>99.750</td>\n",
       "      <td>0.1134</td>\n",
       "    </tr>\n",
       "    <tr>\n",
       "      <th>511</th>\n",
       "      <td>1022.0</td>\n",
       "      <td>4.0694</td>\n",
       "      <td>34.5071</td>\n",
       "      <td>-9.0</td>\n",
       "      <td>99.747</td>\n",
       "      <td>0.1124</td>\n",
       "    </tr>\n",
       "  </tbody>\n",
       "</table>\n",
       "<p>512 rows × 6 columns</p>\n",
       "</div>"
      ],
      "text/plain": [
       "     pressure  temperature  salinity  oxygen  nitrate  chlorophyll\n",
       "0         0.0      26.8851   34.7367   203.1  100.552       0.1607\n",
       "1         2.0      26.6116   34.7367   203.1   96.018      -0.0203\n",
       "2         4.0      26.6229   34.7369   203.2   99.220       0.0413\n",
       "3         6.0      26.6095   34.7370   203.4   99.217       0.1478\n",
       "4         8.0      26.6003   34.7368   203.3   99.212       0.1610\n",
       "..        ...          ...       ...     ...      ...          ...\n",
       "507    1014.0       4.1011   34.5059    49.5   99.748       0.1132\n",
       "508    1016.0       4.0939   34.5061    49.5   99.748       0.1137\n",
       "509    1018.0       4.0859   34.5064    49.5   99.749       0.1124\n",
       "510    1020.0       4.0855   34.5062    49.6   99.750       0.1134\n",
       "511    1022.0       4.0694   34.5071    -9.0   99.747       0.1124\n",
       "\n",
       "[512 rows x 6 columns]"
      ]
     },
     "execution_count": 37,
     "metadata": {},
     "output_type": "execute_result"
    }
   ],
   "source": [
    "data_url_string = \"https://hahana.soest.hawaii.edu/FTP/hot/ctd/hot-325/h325a0101.ctd\"\n",
    "\n",
    "ctd_data = pd.read_csv(data_url_string, skiprows=6, sep='\\s+', header=None)\n",
    "\n",
    "name_dict = {0:\"pressure\", 1:\"temperature\", 2:\"salinity\", 3:\"oxygen\", \n",
    "             4:\"nitrate\", 5:\"chlorophyll\", 6:\"nobs\", 7:\"quality\"}\n",
    "\n",
    "ctd_data = ctd_data.rename(columns=name_dict)\n",
    "\n",
    "ctd_data = ctd_data.drop(columns=[\"nobs\", \"quality\"])\n",
    "\n",
    "ctd_data"
   ]
  },
  {
   "cell_type": "code",
   "execution_count": null,
   "metadata": {},
   "outputs": [],
   "source": [
    "cols=ctd_data.keys()[1:]\n",
    "\n",
    "fig, axs=plt.subplots(1,len(cols),figsize=(12, 4))\n",
    "for j in np.arange(len(cols)):\n",
    "  axs[j].plot(ctd_data[cols[j]],ctd_data['pressure'])\n",
    "  axs[j].set_title(cols[j])\n",
    "  axs[j].invert_yaxis()\n",
    "  if j>0: axs[j].set_yticklabels([])\n",
    "axs[0].set_ylabel('Pressure [dbar]');"
   ]
  },
  {
   "cell_type": "markdown",
   "metadata": {},
   "source": [
    "## Below we proceed with using CMAP's API to query datasets\n",
    "### CMAP stands for **C**ollaborative **M**arine **A**tlas **P**roject https://simonscmap.com/\n",
    "-  Get your personal API key by first registering for account on https://simonscmap.com/register and then going to https://simonscmap.com/apikeymanagement to create the key\n",
    "-  Create a file .cmap_key in the home directory of the system you are using for Jupyterhub notebooks and save the API key there"
   ]
  },
  {
   "cell_type": "code",
   "execution_count": null,
   "metadata": {},
   "outputs": [],
   "source": [
    "key =\"\"  \n",
    "api = pycmap.API(token=key)       # call api using your unique API key"
   ]
  },
  {
   "cell_type": "code",
   "execution_count": null,
   "metadata": {
    "tags": []
   },
   "outputs": [],
   "source": [
    "# get catalog of all datasets- very long\n",
    "# api.get_catalog()\n",
    "\n",
    "# search for a dataset with a specific keyword\n",
    "# api.search_catalog('carbon')"
   ]
  },
  {
   "cell_type": "markdown",
   "metadata": {},
   "source": [
    "### HOT: Hawaii Ocean Time-series (station ALOHA)\n",
    "The dataset description on CMAP: https://simonscmap.com/catalog/datasets/HOT_Bottle_ALOHA"
   ]
  },
  {
   "cell_type": "code",
   "execution_count": null,
   "metadata": {},
   "outputs": [],
   "source": [
    "HOT_bottle = api.get_dataset('tblHOT_Bottle_ALOHA')\n",
    "HOT_bottle.keys()"
   ]
  },
  {
   "cell_type": "code",
   "execution_count": null,
   "metadata": {},
   "outputs": [],
   "source": [
    "#plot a map and show where your data is\n",
    "\n",
    "Lon_Honolulu=360-157.8581; Lat_Honolulu=21.3099\n",
    "\n",
    "plt.figure(figsize=(15,5))\n",
    "\n",
    "ax = plt.axes(projection=ccrs.PlateCarree(central_longitude=180)); #this specifies which projection to use\n",
    "ax.set_extent(( 198,207, 18,24), crs=ccrs.PlateCarree())\n",
    "ax.add_feature(cfeature.COASTLINE)\n",
    "ax.add_feature(cfeature.LAND)\n",
    "\n",
    "ax.scatter(HOT_bottle['lon'],HOT_bottle['lat'],5,transform=ccrs.PlateCarree())\n",
    "plt.title('Hawaii Ocean Time-series, 1988-2022')\n",
    "ax.plot(Lon_Honolulu,Lat_Honolulu, 'ko', alpha=1,transform=ccrs.PlateCarree())\n",
    "\n",
    "plt.text(Lon_Honolulu-1,Lat_Honolulu-0.25,      # add a text label\n",
    "         'Honolulu',transform=ccrs.PlateCarree())\n",
    "\n",
    "plt.text(Lon_Honolulu-2.5,Lat_Honolulu-2,      # add a text label\n",
    "         'HAWAII',weight=\"bold\", fontsize=12, transform=ccrs.PlateCarree());\n",
    "gl = ax.gridlines(draw_labels=True)\n",
    "gl.top_labels = False\n",
    "gl.right_labels = False\n",
    "#plt.axis(\"off\");"
   ]
  },
  {
   "cell_type": "markdown",
   "metadata": {},
   "source": [
    "## Ocean acidification\n",
    "\n",
    "<img src=\"acidification.jpeg\"/>\n",
    "\n",
    "https://www.noaa.gov/education/resource-collections/ocean-coasts/ocean-acidification\n",
    "\n",
    "\n",
    "What is commonly referred to as \"acidity\" is the concentration of hydrogen ions (H+) in an aqueous solution. The concentration of hydrogen ions is expressed on a logarithmic pH scale scale. Many natural processes affect acidity levels in the environment, including photosynthesis and respiration, so the acidity may vary dramatically as a result of natural biological, physical, and geological processes on a variety of different spatial and temporal scales. \n",
    "\n",
    "Ocean acidification, related to the uptake of CO2 at the ocean surface, causes a relatively slow, long-term increase in the acidity of the ocean, corresponding to a decrease in pH. Many organisms are very sensitive to seemingly small changes in pH. https://www.pmel.noaa.gov/co2/story/A+primer+on+pH"
   ]
  },
  {
   "cell_type": "code",
   "execution_count": null,
   "metadata": {},
   "outputs": [],
   "source": [
    "plt.figure(figsize=(8,4))\n",
    "\n",
    "ind1=(HOT_bottle['time'] < '2000') & (HOT_bottle['depth'] <100)\n",
    "plt.hist(HOT_bottle[ind1]['ph'], \n",
    "         bins=np.linspace(8.02, 8.13, 20), density=True, alpha=0.8, \n",
    "         label='1988 - 2000');\n",
    "\n",
    "ind2=(HOT_bottle['time'] > '2010') &(HOT_bottle['depth'] <100)\n",
    "plt.hist(HOT_bottle[ind2]['ph'], \n",
    "         bins=np.linspace(8.02, 8.13, 20),  density=True,alpha=0.8,\n",
    "         label='2010 - 2020');\n",
    "\n",
    "plt.legend()\n",
    "plt.title('Upper ocean pH')\n",
    "plt.xlabel('pH')\n",
    "plt.ylabel('PDF of pH');\n",
    "plt.savefig('Acidification.pdf');"
   ]
  },
  {
   "cell_type": "markdown",
   "metadata": {
    "tags": []
   },
   "source": [
    "## In-class exercise \\#1: Ocean Deoxygenation\n",
    "\n",
    "Oxygen is input into the ocean at the surface, through the processes of photosynthesis by phytoplankton and mixing with the atmosphere. However, organisms, both microbial and multicellular, use oxygen in respiration throughout the entire depth of the ocean, so when the supply of oxygen from the surface is less than the utilization of oxygen in deep water, oxygen loss occurs. This phenomenon is natural, but is exacerbated with increased stratification and/or temperature. Stratification occurs when water masses with different properties, primarily temperature and salinity, are layered, with lower density water on top of higher density water. The larger the differences in the properties between layers, the less mixing occurs between the layers. Stratification is increased when the temperature of the surface ocean or the amount of freshwater input into the ocean from rivers and ice melt increases, enhancing ocean deoxygenation by limiting supply. Another factor that can limit supply is the solubility of oxygen. As temperature and salinity increase, the solubility of oxygen decreases, meaning that less oxygen can be dissolved into water as it warms and becomes more salty.\n",
    "\n",
    "Ocean deoxygenation is an additional stressor on marine life, posing a threat to fish and other types of marine life, as well as to people who depend on marine life for nutrition or livelihood. Total ocean oxygen content has decreased by 1-2% since 1960. https://en.wikipedia.org/wiki/Ocean_deoxygenation\n",
    "\n"
   ]
  },
  {
   "cell_type": "code",
   "execution_count": null,
   "metadata": {},
   "outputs": [],
   "source": [
    "#your solution goes here"
   ]
  },
  {
   "cell_type": "code",
   "execution_count": null,
   "metadata": {},
   "outputs": [],
   "source": [
    "#calculate the fractional O2 change here:"
   ]
  },
  {
   "cell_type": "markdown",
   "metadata": {},
   "source": [
    "## Student's t-test: are the two distributions statistically different?\n",
    "\n",
    "#### Fun historical note: \n",
    "The term \"t-statistic\" is abbreviated from \"hypothesis test statistic\". The T-Distribution, also known as Student's t-distribution, gets its name from William Sealy Gosset who first published it in English in 1908 in the scientific journal Biometrika using his pseudonym \"Student\" because his employer preferred staff to use pen names when publishing scientific papers instead of their real name, so he used the name \"Student\" to hide his identity. Gosset worked at the Guinness Brewery in Dublin, Ireland, and was interested in the problems of small samples – for example, the chemical properties of barley with small sample sizes. Hence a second version of the etymology of the term Student is that Guinness did not want their competitors to know that they were using the t-test to determine the quality of raw material. https://en.wikipedia.org/wiki/Student%27s_t-test"
   ]
  },
  {
   "cell_type": "code",
   "execution_count": null,
   "metadata": {},
   "outputs": [],
   "source": [
    "from scipy.stats import ttest_ind\n",
    "\n",
    "a = HOT_bottle[ind2]['boxy']; a=a[~np.isnan(a)] \n",
    "\n",
    "b = HOT_bottle[ind1]['boxy']; b=b[~np.isnan(b)] \n",
    "\n",
    "prob=ttest_ind(a,b,equal_var=False).pvalue  # fractional probability that the difference in these two arrays is due to chance\n",
    "\n",
    "print(prob)"
   ]
  },
  {
   "cell_type": "markdown",
   "metadata": {},
   "source": [
    "## Nutrients and their deplition at the surface of the ocean\n",
    "\n",
    "Phytoplankton require a suite of chemicals, and those with the potential to be scarce in surface waters are typically identified as \"nutrients.\" Calcium is an example of an element that is rapidly assimilated by some plankton (for production of calcium carbonate \"hard parts\") but is not typically considered a nutrient because of its uniformly high concentration in seawater. Dissolved inorganic carbon, which is the feedstock for organic carbon production by photosynthesis, is also abundant and so is not typically listed among the nutrients. However, its acidic form dissolved CO$_2$ is often at adequately low concentrations to affect the growth of at least some phytoplankton.\n",
    "\n",
    "Sigman, D. M. & Hain, M. P. (2012) The Biological Productivity of the Ocean. Nature Education Knowledge 3(10):21 https://www.nature.com/scitable/knowledge/library/the-biological-productivity-of-the-ocean-70631104/"
   ]
  },
  {
   "cell_type": "code",
   "execution_count": null,
   "metadata": {},
   "outputs": [],
   "source": [
    "plt.figure(figsize=(8,4))\n",
    "\n",
    "plt.subplot(1,3,1)\n",
    "plt.scatter(HOT_bottle['nit'],-HOT_bottle['depth'])\n",
    "plt.xlabel('[NO$_2$]$^{-}$ + [NO$_3$]$^{-}$ [µmol/kg]')\n",
    "plt.ylabel('Depth [m]')\n",
    "plt.title('Nitrite + Nitrate')\n",
    "\n",
    "plt.subplot(1,3,2)\n",
    "plt.scatter(HOT_bottle['phos'],-HOT_bottle['depth'])\n",
    "plt.xlabel('[PO$_4$]$^{3-}$ [µmol/kg]')\n",
    "plt.title('Phosphate')\n",
    "plt.yticks([])\n",
    "\n",
    "plt.subplot(1,3,3)\n",
    "plt.scatter(HOT_bottle['sil']/1e3,-HOT_bottle['depth'])\n",
    "plt.xlabel('[SiO$_4$]$^{4-}$ [µmol/kg]');\n",
    "plt.title('Silicate')\n",
    "plt.yticks([]);\n",
    "plt.savefig('Nutrients.png')"
   ]
  },
  {
   "cell_type": "markdown",
   "metadata": {},
   "source": [
    "Note how these elements are depleted to near-zero values near the surface of the ocean - why is that?"
   ]
  },
  {
   "cell_type": "markdown",
   "metadata": {},
   "source": [
    "## Redfield Ratio \n",
    "\n",
    "<img src=\"CNP.png\" width=600/>\n",
    "\n",
    "The Redfield ratio is the consistent atomic ratio of carbon, nitrogen and phosphorus found in marine phytoplankton and throughout the deep oceans. It defines the stoichiometry of photosynthesis and remineralization reactions.\n",
    "\n",
    "The term is named for American oceanographer Alfred C. Redfield who in 1934 first described the relatively consistent ratio of nutrients in marine biomass samples collected across several voyages on board the research vessel Atlantis, and empirically found the ratio to be C:N:P = 106:16:1. While deviations from the canonical 106:16:1 ratio have been found depending on phytoplankton species and the study area, the Redfield ratio has remained an important reference to oceanographers studying nutrient limitation. A 2014 paper summarizing a large data set of nutrient measurements across all major ocean regions spanning from 1970 to 2010 reported the global median C:N:P to be 163:22:1. https://en.wikipedia.org/wiki/Redfield_ratio\n",
    "\n",
    "\n",
    "Considering only the more numerous and important of the chemical elements in the average recipe for phytoplankton, this leads to an idealized chemical reaction for the formation of phytoplankton: \n",
    "\n",
    "$106 CO_2 + 16 HNO_3 + H_3PO_4 + 78H_2O \\rightleftarrows  (C_{106}H_{175}O_{42}N_{16}P) + 150 O_2.$\n",
    "\n",
    "The term in parentheses is a simplified average formula for phytoplankton. This equation contains a two-way arrow because the reaction is reversible. The reverse reaction is the remineralization of phytoplankton, brought about by several processes. Nutrients leak back into the environment due to cell breakage during grazing, lysis of cells infected by viruses, decay and lysis of cells attacked by bacteria, excretion of digestive waste products, etc. https://www.sciencedirect.com/science/article/pii/B012227430X002713"
   ]
  },
  {
   "cell_type": "code",
   "execution_count": null,
   "metadata": {},
   "outputs": [],
   "source": [
    "plt.figure(figsize=(6,4))\n",
    "\n",
    "plt.hist(HOT_bottle['pc']/HOT_bottle['pn'],\n",
    "         bins=np.linspace(0,14,40),density=True,\n",
    "         label='Observations');\n",
    "plt.axvline(106/16,linestyle='--',color='k',label='C:N=106:16')\n",
    "plt.legend()\n",
    "plt.title('Particulate C:N ratio')\n",
    "plt.xlabel('C:N')\n",
    "\n",
    "plt.xlim((0,14));"
   ]
  },
  {
   "cell_type": "markdown",
   "metadata": {},
   "source": [
    "## In-class exercise \\#2: Nitrogen-to-Phosphorus ratio (N:P)\n",
    "\n",
    "Following the example above, calculate the Nitrogen-to-Phosphorus ratio (N:P) and plot it as a histogram. Does it match Redfield's ratio of 16:1?"
   ]
  },
  {
   "cell_type": "code",
   "execution_count": null,
   "metadata": {},
   "outputs": [],
   "source": [
    "#your solution goes here"
   ]
  },
  {
   "cell_type": "markdown",
   "metadata": {},
   "source": [
    "# Seasonal cycle "
   ]
  },
  {
   "cell_type": "markdown",
   "metadata": {},
   "source": [
    "## Explore there seasonality in surface termperature"
   ]
  },
  {
   "cell_type": "code",
   "execution_count": null,
   "metadata": {},
   "outputs": [],
   "source": [
    "HOT_bottle['month'] = pd.DatetimeIndex(HOT_bottle['time']).month # create a new variable 'month'\n",
    "\n",
    "ind=(HOT_bottle['depth']<50)  # consider surface data only\n",
    "\n",
    "fig = px.histogram(HOT_bottle[ind].sort_values(by='month'),\n",
    "                     x='temp',\n",
    "                     nbins=10, histnorm='probability density',\n",
    "                     range_y=[0, 1],\n",
    "                     range_x=[22, 29],\n",
    "                     height=400, width=600, \n",
    "                     animation_frame=\"month\");\n",
    "fig.show()"
   ]
  },
  {
   "cell_type": "markdown",
   "metadata": {},
   "source": [
    "## In-class exercise \\#3: Climatology (seasonal cycle)\n",
    "\n",
    "Calculate the climatological seasonal cycle in temperature and nutrients\n",
    "\n",
    "### Instructions:\n",
    " - subsample the data using near-surface depths, e.g., HOT_bottle['depth']<50\n",
    "\n",
    " - To calculate the climatology, group the dataframe variables by month using the __.goupby('month')__ operation and then take an average using __.mean()__\n",
    " - Make a scatter plot of month vs temperature and add the climatology figure to it\n",
    " - Define a function makes the seasonal cycle  plot of a variable from the dataframe given its name as an argument\n",
    " - Use the plotting function to explore different variables like chl_bottle_hot and PO4_bottle_hot"
   ]
  },
  {
   "cell_type": "code",
   "execution_count": null,
   "metadata": {},
   "outputs": [],
   "source": [
    "#Your solution goes here"
   ]
  },
  {
   "cell_type": "markdown",
   "metadata": {},
   "source": [
    "##  Take-home exercise: Oxygen Minimum Zone\n",
    "\n",
    "### HOT-DOGS\n",
    "\n",
    "HOT-DOGS is a user-friendly interface to the data we've looked at in raw form from the CTD above. It stands for the **H**awaii **O**cean **T**ime-series **D**ata **O**rganization & **G**raphical **S**ystem and can be used to download data and make plots. It's still presenting the data in a fairly raw way, but allows us to access single columns over multiple years simultaneously - saving us several steps.\n",
    "\n",
    "Oxygen Minimum Zone: use the HOT data to demonstrate that the oxygen has a pronounced minimum at depths of a few km. Speculate as to why this might be."
   ]
  },
  {
   "cell_type": "code",
   "execution_count": null,
   "metadata": {},
   "outputs": [],
   "source": [
    "# hotdogs_data = pd.read_csv(\"filename.csv\")"
   ]
  },
  {
   "cell_type": "code",
   "execution_count": null,
   "metadata": {},
   "outputs": [],
   "source": []
  }
 ],
 "metadata": {
  "kernelspec": {
   "display_name": "Python [conda env:root] *",
   "language": "python",
   "name": "conda-root-py"
  },
  "language_info": {
   "codemirror_mode": {
    "name": "ipython",
    "version": 3
   },
   "file_extension": ".py",
   "mimetype": "text/x-python",
   "name": "python",
   "nbconvert_exporter": "python",
   "pygments_lexer": "ipython3",
   "version": "3.7.6"
  }
 },
 "nbformat": 4,
 "nbformat_minor": 4
}
