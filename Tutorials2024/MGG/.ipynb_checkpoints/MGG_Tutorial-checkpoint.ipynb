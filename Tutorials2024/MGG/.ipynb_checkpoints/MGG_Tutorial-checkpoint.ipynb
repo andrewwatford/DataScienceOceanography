{
 "cells": [
  {
   "cell_type": "markdown",
   "metadata": {
    "id": "ENND0AxsuBMb"
   },
   "source": [
    "# Marine Geology & Geophysics (MGG)"
   ]
  },
  {
   "cell_type": "markdown",
   "metadata": {
    "id": "PFVFfiovz4zf"
   },
   "source": [
    "<img src=\"WorldEarthquakeMap-1-1400x820.jpeg\">"
   ]
  },
  {
   "cell_type": "markdown",
   "metadata": {
    "id": "vphadX7UuK81"
   },
   "source": [
    "This tutorial is part of our Marine Geology and Geophysics day. It demonstrates how to do basic analysis and visualization of seafloor features, geologic, and seismic data. We will learn how to make maps of publicly available datasets of seafloor bathymetry, crustal age, and tectonic plate depth. We will then learn how to download data using python from the databases where seismic data are stored. Combining these techniques, we will learn to think like a geophysicist and use available data to draw connections between earthquake activity and geologic characteristics."
   ]
  },
  {
   "cell_type": "markdown",
   "metadata": {},
   "source": [
    "### Estimated tutorial time: 2 hours"
   ]
  },
  {
   "cell_type": "markdown",
   "metadata": {
    "id": "AJKt8JIMt3l-"
   },
   "source": [
    "## Tutorial Goals\n",
    "\n",
    "Python Skills\n",
    "  *   Download data from a remote database using URL queries\n",
    "  *   Make interactive plots that can be embedded with html\n",
    "  *   Plot detailed and attractive maps using both grid and point data\n",
    "  *   Co-locate datasets\n",
    "\n",
    "MG&G Knowledge\n",
    "  *   Learn about how bathymetry is influenced by earth processes\n",
    "  *   Understand how earthquake data are stored and used\n",
    "  *   Visualize how earthquakes are tied to tectonic processes\n"
   ]
  },
  {
   "cell_type": "markdown",
   "metadata": {},
   "source": [
    "## Data\n",
    "\n",
    "- Earthquakes: the vast majority of seismic data is stored by IRIS, the Incorporated Research Institutions for Seismology.\n",
    "- Bathymetry: the Global Multi-Resolution Topography (GMRT) synthesis is a multi-resolutional compilation of edited multibeam sonar data  https://www.gmrt.org\n",
    "- Slab depth: Slab2 data is publicly available and can be downloaded at https://www.sciencebase.gov/catalog/item/5aa1b00ee4b0b1c392e86467/"
   ]
  },
  {
   "cell_type": "markdown",
   "metadata": {
    "id": "_mZsqVyOy05I"
   },
   "source": [
    "## Reading\n",
    "\n",
    "Yeats, R. S. (2004). Living with earthquakes in the Pacific Northwest. https://open.oregonstate.education/earthquakes/chapter/earthquakes-in-the-juan-de-fuca-plate/\n",
    "\n",
    "\n",
    "Bilek, Susan L., Susan Y. Schwartz, and Heather R. DeShon. \"Control of seafloor roughness on earthquake rupture behavior.\" Geology 31.5 (2003): 455-458.\n",
    "\n",
    "https://pubs.geoscienceworld.org/gsa/geology/article/31/5/455/198278/Control-of-seafloor-roughness-on-earthquake"
   ]
  },
  {
   "cell_type": "markdown",
   "metadata": {},
   "source": [
    "# Let's start!"
   ]
  },
  {
   "cell_type": "markdown",
   "metadata": {
    "id": "ZC3mA4Q7xT82"
   },
   "source": [
    "## Environment set-up"
   ]
  },
  {
   "cell_type": "code",
   "execution_count": null,
   "metadata": {},
   "outputs": [],
   "source": [
    "!pip install obspy wget cartopy"
   ]
  },
  {
   "cell_type": "code",
   "execution_count": 33,
   "metadata": {},
   "outputs": [],
   "source": [
    "import matplotlib.pyplot as plt\n",
    "import pandas as pd\n",
    "import numpy as np\n",
    "import xarray as xr  #loading and working with data in an optimal way.\n",
    "\n",
    "\n",
    "import obspy\n",
    "from obspy.clients.fdsn import Client\n",
    "\n",
    "import plotly.express as px\n",
    "\n",
    "import wget\n",
    "\n",
    "import cartopy.crs as ccrs         # to plot maps with different projections\n",
    "import cartopy.feature as cfeature # to plot coastlines, land, borders, etc.\n",
    "\n",
    "from matplotlib.colors import LightSource\n",
    "\n",
    "import os.path # to check if files already exist\n"
   ]
  },
  {
   "cell_type": "markdown",
   "metadata": {
    "id": "zJSRWZKo6d9J"
   },
   "source": [
    "# Downloading earthquake data"
   ]
  },
  {
   "cell_type": "markdown",
   "metadata": {},
   "source": [
    "The vast majority of seismic data is stored by IRIS, the *Incorporated Research Institutions for Seismology*.\n",
    "\n",
    "IRIS stores seismometer waveform time series, seismometer station information, earthquake catalog data, and many, many, more seismic-related data products.\n",
    "\n",
    "Much of the data we will be using today comes from IRIS, and we can download it remotely from this python notebook using the Number 1 package in seismology, obsPy!\n",
    "\n",
    "https://docs.obspy.org/\n",
    "\n",
    "obsPy connects to seismic databases using a client (see below). There are many other global clients but today we'll be connecting to IRIS. First, we are going to download earthquake data."
   ]
  },
  {
   "cell_type": "code",
   "execution_count": 34,
   "metadata": {
    "id": "t1Zl-CTK6hGJ"
   },
   "outputs": [],
   "source": [
    "# Prepare to connect to the earthquake database, called IRIS\n",
    "client = Client(\"IRIS\")"
   ]
  },
  {
   "cell_type": "code",
   "execution_count": 35,
   "metadata": {
    "id": "OnZ-9CRZ6vtA"
   },
   "outputs": [],
   "source": [
    "# Specify what times you want the data for\n",
    "t1 = obspy.UTCDateTime(2010,7,1)\n",
    "t2 = obspy.UTCDateTime(2023,7,1)\n",
    "\n",
    "# Specify the minimum magnitude earthquake you want\n",
    "minmagnitude = 6\n",
    "\n",
    "# Note - you can also specify minimum/maximum latitudes/longitudes to get the data for.\n",
    "# But for now, we won't specify\n",
    "minlat = None\n",
    "maxlat = None\n",
    "minlon = None\n",
    "maxlon = None\n",
    "\n",
    "# Query the earthquake database to create a catalog of earthquakes within your specified timeframe\n",
    "cat = client.get_events(starttime = t1, \n",
    "                        endtime = t2,\n",
    "                        minmagnitude=minmagnitude,\n",
    "                        minlatitude=minlat,\n",
    "                        minlongitude=minlon,\n",
    "                        maxlatitude=maxlat,\n",
    "                        maxlongitude=maxlon)"
   ]
  },
  {
   "cell_type": "markdown",
   "metadata": {},
   "source": [
    "#### We now have a catalog object, which we see contains a number of earthquakes:"
   ]
  },
  {
   "cell_type": "code",
   "execution_count": 36,
   "metadata": {},
   "outputs": [
    {
     "data": {
      "text/plain": [
       "Event:\t2014-07-19T14:14:02.290000Z | +11.709,  +57.957 | 6.0  MW\n",
       "\n",
       "\t            resource_id: ResourceIdentifier(id=\"smi:service.iris.edu/fdsnws/event/1/query?eventid=4725406\")\n",
       "\t             event_type: 'earthquake'\n",
       "\t    preferred_origin_id: ResourceIdentifier(id=\"smi:service.iris.edu/fdsnws/event/1/query?originid=24266308\")\n",
       "\t preferred_magnitude_id: ResourceIdentifier(id=\"smi:service.iris.edu/fdsnws/event/1/query?magnitudeid=182182201\")\n",
       "\t                   ---------\n",
       "\t     event_descriptions: 1 Elements\n",
       "\t                origins: 1 Elements\n",
       "\t             magnitudes: 1 Elements"
      ]
     },
     "execution_count": 36,
     "metadata": {},
     "output_type": "execute_result"
    }
   ],
   "source": [
    "cat[1234]"
   ]
  },
  {
   "cell_type": "markdown",
   "metadata": {},
   "source": [
    "#### We see that we can access individual earthquakes in the catalog by indexing, and we see that they have origin and magnitude information:"
   ]
  },
  {
   "cell_type": "code",
   "execution_count": 37,
   "metadata": {},
   "outputs": [
    {
     "name": "stdout",
     "output_type": "stream",
     "text": [
      "Description FIJI ISLANDS REGION\n",
      "Magnitude   6.9\n",
      "Time        2014-07-21 14:54:41\n",
      "Depth       615400.0\n",
      "Longitude   -178.4001\n",
      "Latitude    -19.8015\n"
     ]
    }
   ],
   "source": [
    "N=1232\n",
    "print('Description', cat[N].event_descriptions[0].text)\n",
    "print('Magnitude  ', cat[N].magnitudes[0].mag)\n",
    "print('Time       ', cat[N].origins[0].time.datetime)\n",
    "print('Depth      ', cat[N].origins[0].depth)\n",
    "print('Longitude  ', cat[N].origins[0].longitude)\n",
    "print('Latitude   ', cat[N].origins[0].latitude)"
   ]
  },
  {
   "cell_type": "markdown",
   "metadata": {},
   "source": [
    "#### The time, location (lat, lon, depth), and magnitude information is of most interest to us. We can take this information for each earthquake and organize it more neatly into a tabular format as a pandas dataframe."
   ]
  },
  {
   "cell_type": "code",
   "execution_count": 38,
   "metadata": {
    "id": "Jh2rKboT7ALh"
   },
   "outputs": [],
   "source": [
    "def catalog2pandas(cat): # Reorganize the Event Catalog into a pandas dataframe, keeping only the needed information\n",
    "    \n",
    "    times  = [ev.origins[0].time.datetime for ev in cat]\n",
    "    lats   = [ev.origins[0].latitude for ev in cat]\n",
    "    lons   = [ev.origins[0].longitude for ev in cat]\n",
    "    mags   = [ev.magnitudes[0].mag for ev in cat]\n",
    "    depths = [ev.origins[0].depth for ev in cat]\n",
    "    \n",
    "    descriptions=[ev.event_descriptions[0]['text'] for ev in cat]\n",
    "\n",
    "    origin_dict = {'time':times,\n",
    "                   'latitude':lats,\n",
    "                   'longitude':lons,\n",
    "                   'depth':depths,\n",
    "                   'magnitude':mags, \n",
    "                   'description':descriptions}\n",
    "\n",
    "    events = pd.DataFrame.from_dict(origin_dict)\n",
    "    \n",
    "    events=events.sort_values(by='time'); \n",
    "    \n",
    "    return events"
   ]
  },
  {
   "cell_type": "code",
   "execution_count": 39,
   "metadata": {},
   "outputs": [
    {
     "data": {
      "text/html": [
       "<div>\n",
       "<style scoped>\n",
       "    .dataframe tbody tr th:only-of-type {\n",
       "        vertical-align: middle;\n",
       "    }\n",
       "\n",
       "    .dataframe tbody tr th {\n",
       "        vertical-align: top;\n",
       "    }\n",
       "\n",
       "    .dataframe thead th {\n",
       "        text-align: right;\n",
       "    }\n",
       "</style>\n",
       "<table border=\"1\" class=\"dataframe\">\n",
       "  <thead>\n",
       "    <tr style=\"text-align: right;\">\n",
       "      <th></th>\n",
       "      <th>time</th>\n",
       "      <th>latitude</th>\n",
       "      <th>longitude</th>\n",
       "      <th>depth</th>\n",
       "      <th>magnitude</th>\n",
       "      <th>description</th>\n",
       "    </tr>\n",
       "  </thead>\n",
       "  <tbody>\n",
       "    <tr>\n",
       "      <th>1920</th>\n",
       "      <td>2010-07-02 06:04:03.570</td>\n",
       "      <td>-13.6098</td>\n",
       "      <td>166.6541</td>\n",
       "      <td>34400.0</td>\n",
       "      <td>6.3</td>\n",
       "      <td>VANUATU ISLANDS</td>\n",
       "    </tr>\n",
       "    <tr>\n",
       "      <th>1919</th>\n",
       "      <td>2010-07-04 21:55:52.370</td>\n",
       "      <td>39.6611</td>\n",
       "      <td>142.5792</td>\n",
       "      <td>30100.0</td>\n",
       "      <td>6.3</td>\n",
       "      <td>NEAR EAST COAST OF HONSHU, JAPAN</td>\n",
       "    </tr>\n",
       "    <tr>\n",
       "      <th>1918</th>\n",
       "      <td>2010-07-10 11:43:33.000</td>\n",
       "      <td>11.1664</td>\n",
       "      <td>146.0823</td>\n",
       "      <td>16900.0</td>\n",
       "      <td>6.3</td>\n",
       "      <td>SOUTH OF MARIANA ISLANDS</td>\n",
       "    </tr>\n",
       "    <tr>\n",
       "      <th>1917</th>\n",
       "      <td>2010-07-12 00:11:20.060</td>\n",
       "      <td>-22.2789</td>\n",
       "      <td>-68.3159</td>\n",
       "      <td>109400.0</td>\n",
       "      <td>6.2</td>\n",
       "      <td>NORTHERN CHILE</td>\n",
       "    </tr>\n",
       "    <tr>\n",
       "      <th>1916</th>\n",
       "      <td>2010-07-14 08:32:21.850</td>\n",
       "      <td>-38.0635</td>\n",
       "      <td>-73.4649</td>\n",
       "      <td>25700.0</td>\n",
       "      <td>6.6</td>\n",
       "      <td>NEAR COAST OF CENTRAL CHILE</td>\n",
       "    </tr>\n",
       "    <tr>\n",
       "      <th>...</th>\n",
       "      <td>...</td>\n",
       "      <td>...</td>\n",
       "      <td>...</td>\n",
       "      <td>...</td>\n",
       "      <td>...</td>\n",
       "      <td>...</td>\n",
       "    </tr>\n",
       "    <tr>\n",
       "      <th>4</th>\n",
       "      <td>2023-06-17 11:26:20.456</td>\n",
       "      <td>-23.4652</td>\n",
       "      <td>-175.4720</td>\n",
       "      <td>22000.0</td>\n",
       "      <td>6.1</td>\n",
       "      <td>TONGA ISLANDS REGION</td>\n",
       "    </tr>\n",
       "    <tr>\n",
       "      <th>3</th>\n",
       "      <td>2023-06-18 20:30:22.195</td>\n",
       "      <td>23.1690</td>\n",
       "      <td>-108.6940</td>\n",
       "      <td>10000.0</td>\n",
       "      <td>6.4</td>\n",
       "      <td>GULF OF CALIFORNIA</td>\n",
       "    </tr>\n",
       "    <tr>\n",
       "      <th>2</th>\n",
       "      <td>2023-06-18 21:59:17.518</td>\n",
       "      <td>-48.6747</td>\n",
       "      <td>31.1598</td>\n",
       "      <td>10000.0</td>\n",
       "      <td>6.0</td>\n",
       "      <td>SOUTH OF AFRICA</td>\n",
       "    </tr>\n",
       "    <tr>\n",
       "      <th>1</th>\n",
       "      <td>2023-06-19 11:18:11.960</td>\n",
       "      <td>-4.4729</td>\n",
       "      <td>144.8345</td>\n",
       "      <td>23844.0</td>\n",
       "      <td>6.2</td>\n",
       "      <td>NEAR N COAST OF NEW GUINEA, PNG.</td>\n",
       "    </tr>\n",
       "    <tr>\n",
       "      <th>0</th>\n",
       "      <td>2023-06-25 07:16:58.830</td>\n",
       "      <td>-24.0818</td>\n",
       "      <td>-175.5760</td>\n",
       "      <td>9000.0</td>\n",
       "      <td>6.2</td>\n",
       "      <td>SOUTH OF TONGA ISLANDS</td>\n",
       "    </tr>\n",
       "  </tbody>\n",
       "</table>\n",
       "<p>1921 rows × 6 columns</p>\n",
       "</div>"
      ],
      "text/plain": [
       "                        time  latitude  longitude     depth  magnitude  \\\n",
       "1920 2010-07-02 06:04:03.570  -13.6098   166.6541   34400.0        6.3   \n",
       "1919 2010-07-04 21:55:52.370   39.6611   142.5792   30100.0        6.3   \n",
       "1918 2010-07-10 11:43:33.000   11.1664   146.0823   16900.0        6.3   \n",
       "1917 2010-07-12 00:11:20.060  -22.2789   -68.3159  109400.0        6.2   \n",
       "1916 2010-07-14 08:32:21.850  -38.0635   -73.4649   25700.0        6.6   \n",
       "...                      ...       ...        ...       ...        ...   \n",
       "4    2023-06-17 11:26:20.456  -23.4652  -175.4720   22000.0        6.1   \n",
       "3    2023-06-18 20:30:22.195   23.1690  -108.6940   10000.0        6.4   \n",
       "2    2023-06-18 21:59:17.518  -48.6747    31.1598   10000.0        6.0   \n",
       "1    2023-06-19 11:18:11.960   -4.4729   144.8345   23844.0        6.2   \n",
       "0    2023-06-25 07:16:58.830  -24.0818  -175.5760    9000.0        6.2   \n",
       "\n",
       "                           description  \n",
       "1920                   VANUATU ISLANDS  \n",
       "1919  NEAR EAST COAST OF HONSHU, JAPAN  \n",
       "1918          SOUTH OF MARIANA ISLANDS  \n",
       "1917                    NORTHERN CHILE  \n",
       "1916       NEAR COAST OF CENTRAL CHILE  \n",
       "...                                ...  \n",
       "4                 TONGA ISLANDS REGION  \n",
       "3                   GULF OF CALIFORNIA  \n",
       "2                      SOUTH OF AFRICA  \n",
       "1     NEAR N COAST OF NEW GUINEA, PNG.  \n",
       "0               SOUTH OF TONGA ISLANDS  \n",
       "\n",
       "[1921 rows x 6 columns]"
      ]
     },
     "execution_count": 39,
     "metadata": {},
     "output_type": "execute_result"
    }
   ],
   "source": [
    "events=catalog2pandas(cat)\n",
    "events"
   ]
  },
  {
   "cell_type": "markdown",
   "metadata": {
    "id": "gdM4_-eJ8coM"
   },
   "source": [
    "# Interactive maps of global earthquakes"
   ]
  },
  {
   "cell_type": "markdown",
   "metadata": {
    "id": "8MDBP0Ot8g7Z"
   },
   "source": [
    "#### Now that we have our basic earthquake information, let's visualize where they are in the world! Here we'll make some cool interactive maps that you can access as an html product. To do so we will use the package called plotly."
   ]
  },
  {
   "cell_type": "markdown",
   "metadata": {},
   "source": [
    "#### Make a histogram of earthquake magnitudes"
   ]
  },
  {
   "cell_type": "code",
   "execution_count": 40,
   "metadata": {},
   "outputs": [],
   "source": [
    "# Note: in order to make sure that the plotly figures appear in the jupyter notebook, \n",
    "# you may have to execute the following commands:\n",
    "\n",
    "import plotly.io as pio\n",
    "pio.renderers.default = 'iframe'"
   ]
  },
  {
   "cell_type": "code",
   "execution_count": 41,
   "metadata": {},
   "outputs": [
    {
     "data": {
      "text/html": [
       "<iframe\n",
       "    scrolling=\"no\"\n",
       "    width=\"620px\"\n",
       "    height=\"420\"\n",
       "    src=\"iframe_figures/figure_41.html\"\n",
       "    frameborder=\"0\"\n",
       "    allowfullscreen\n",
       "></iframe>\n"
      ]
     },
     "metadata": {},
     "output_type": "display_data"
    }
   ],
   "source": [
    "fig = px.histogram(events,   #specify what dataframe to use\n",
    "             x=\"magnitude\",  #specify the variable for the histogram \n",
    "             nbins=50,       #number of bins for the histogram \n",
    "             height=400,     #dimensions of the figure\n",
    "             width=600);\n",
    "fig.show()\n",
    "#fig.show(renderer=\"colab\")  #specify the colab renderer if you're using google colab\n",
    "#fig.show(renderer=\"vscode\") #specify the vscode renderer if you're using vscode"
   ]
  },
  {
   "cell_type": "markdown",
   "metadata": {
    "tags": []
   },
   "source": [
    "#### Now make an animated map of the earth that iterates through time\n",
    "\n",
    "Let's add the __year__ and __marker_size__ as new columns to our dataframe to help us visualize earthquakes on a geographic map"
   ]
  },
  {
   "cell_type": "code",
   "execution_count": 42,
   "metadata": {},
   "outputs": [],
   "source": [
    "events['year'] = pd.DatetimeIndex(events['time']).year # add year as a category to group by\n",
    "events['marker_size'] =np.fix(np.exp(events['magnitude'])) # add marker size as exp(mag)\n",
    "events['magnitude bin'] = 0.5*np.fix(2*events['magnitude']) # add marker size as exp(mag)"
   ]
  },
  {
   "cell_type": "code",
   "execution_count": 43,
   "metadata": {},
   "outputs": [
    {
     "data": {
      "text/html": [
       "<iframe\n",
       "    scrolling=\"no\"\n",
       "    width=\"1020px\"\n",
       "    height=\"820\"\n",
       "    src=\"iframe_figures/figure_43.html\"\n",
       "    frameborder=\"0\"\n",
       "    allowfullscreen\n",
       "></iframe>\n"
      ]
     },
     "metadata": {},
     "output_type": "display_data"
    }
   ],
   "source": [
    "events2plot=events.loc[events.magnitude>5.5].sort_values(by='year')\n",
    "\n",
    "fig = px.scatter_geo(events2plot,\n",
    "                     lat='latitude',lon='longitude', \n",
    "                     size='marker_size', color='magnitude',\n",
    "                     hover_name='description', hover_data=['magnitude','depth', 'year'], \n",
    "                     range_color=(6,9),\n",
    "                     height=800, width=1000,\n",
    "                     animation_frame=\"year\");\n",
    "fig.update_geos(resolution=110, showcountries=True)\n",
    "#fig.show(renderer=\"colab\")  #specify the renderer if you're using google colab\n",
    "#fig.show(renderer=\"vscode\") #specify the vscode renderer if you're using vscode"
   ]
  },
  {
   "cell_type": "markdown",
   "metadata": {},
   "source": [
    "## In-class exercise \\#1: look at all earthquakes on a spinning globe\n",
    "\n",
    "Use an Orthographic projection to look at all earthquakes on a spinning globe. \n",
    "\n",
    "Instructions: \n",
    "   - Remove the __animation_frame__ parameter as we want to plot single image. \n",
    "   - update_geos with a parameter __projection_type='orthographic'__\n",
    "   - This time save the interactive figure to html using fig.write_html('filename.html')\n",
    "   - Download the html file: it can now be embedded in a website!  "
   ]
  },
  {
   "cell_type": "code",
   "execution_count": 44,
   "metadata": {},
   "outputs": [],
   "source": [
    "#Your solution goes here"
   ]
  },
  {
   "cell_type": "markdown",
   "metadata": {
    "id": "xaK9U3ax8_uw"
   },
   "source": [
    "As you can see on the interactive maps, a particularly active location is an area off the coast of the northwest United States. To see why this might be, we can look at the topography of the seafloor in that area. We call seafloor topography data \"bathymetry\".\n"
   ]
  },
  {
   "cell_type": "markdown",
   "metadata": {},
   "source": [
    "# Juan de Fuca plate\n",
    "<img src=\"Juan de Fuca plate.jpeg\" width=800>"
   ]
  },
  {
   "cell_type": "markdown",
   "metadata": {},
   "source": [
    "Let's zoom in on our location of interest and start to look at the bathymetry of the ocean floor at that location, to see it suggests a connection between the earthquake locations and seafloor features."
   ]
  },
  {
   "cell_type": "markdown",
   "metadata": {
    "id": "KGGGnONw926O"
   },
   "source": [
    "Bathymetry datasets are compiled from decades of ship-based seafloor mapping. Scientists work really hard to make this data available to the community. Marine geophysicists primarily get their bathymetry data from the GMRT dataset:\n",
    "\n",
    "*\"The Global Multi-Resolution Topography (GMRT) synthesis is a multi-resolutional compilation of edited multibeam sonar data collected by scientists and institutions worldwide, that is reviewed, processed and gridded by the GMRT Team and merged into a single continuously updated compilation of global elevation data\"*\n",
    "\n",
    "\n",
    "see https://www.gmrt.org/ for more information.\n",
    "\n",
    "### Building a URL to download data from the GMRT database"
   ]
  },
  {
   "cell_type": "code",
   "execution_count": 49,
   "metadata": {
    "id": "dNOpm27l94HU"
   },
   "outputs": [
    {
     "name": "stdout",
     "output_type": "stream",
     "text": [
      "Downloading GMRT topography\n",
      "https://www.gmrt.org/services/GridServer?north=50&west=-135&east=-120&south=39&layer=topo&format=netcdf&resolution=high\n",
      "GMRTv4_2_1_20240815topo.grd\n"
     ]
    }
   ],
   "source": [
    "# We build a URL which will automatically download a bathymetry grid to our specifications\n",
    "url = 'https://www.gmrt.org/services/GridServer?north={maxlat}&west={minlon}&east={maxlon}&south={minlat}&layer=topo&format=netcdf&resolution=high' \n",
    "\n",
    "# Specify coordinates for the bathymetry grid we want\n",
    "url=url.format(maxlat=50,\n",
    "               minlon=-135,\n",
    "               maxlon=-120,\n",
    "               minlat=39)\n",
    "\n",
    "topo_data='GMRTv4_1_1_20230806topo.grd'\n",
    "\n",
    "if os.path.isfile(topo_data)==False:\n",
    "    print('Downloading GMRT topography')\n",
    "    print(url)\n",
    "    topo_data=wget.download(url)\n",
    "\n",
    "print(topo_data)"
   ]
  },
  {
   "cell_type": "markdown",
   "metadata": {
    "id": "ZzPgFNcuADET"
   },
   "source": [
    "### The bathymetry is a netcdf file but in a .grd format: let's change it to a more convenient array format."
   ]
  },
  {
   "cell_type": "code",
   "execution_count": 50,
   "metadata": {
    "id": "D7Ji3u8ZACDf"
   },
   "outputs": [],
   "source": [
    "# Load the downloaded bathymetry data into xarray\n",
    "topo=xr.open_dataset(topo_data)\n",
    "dim=np.flip(topo.dimension).values\n",
    "z=topo.z.values\n",
    "z=z.reshape(dim)\n",
    "z[np.isnan(z)]=0;\n",
    "\n",
    "x=np.linspace(topo.x_range[0],topo.x_range[1],dim[1])\n",
    "y=np.linspace(topo.y_range[1],topo.y_range[0],dim[0])\n",
    "#if topo.x_range gives error move xarray to numpy as topo.x_range.to_numpy()"
   ]
  },
  {
   "cell_type": "code",
   "execution_count": 53,
   "metadata": {},
   "outputs": [
    {
     "data": {
      "text/html": [
       "<div><svg style=\"position: absolute; width: 0; height: 0; overflow: hidden\">\n",
       "<defs>\n",
       "<symbol id=\"icon-database\" viewBox=\"0 0 32 32\">\n",
       "<title>Show/Hide data repr</title>\n",
       "<path d=\"M16 0c-8.837 0-16 2.239-16 5v4c0 2.761 7.163 5 16 5s16-2.239 16-5v-4c0-2.761-7.163-5-16-5z\"></path>\n",
       "<path d=\"M16 17c-8.837 0-16-2.239-16-5v6c0 2.761 7.163 5 16 5s16-2.239 16-5v-6c0 2.761-7.163 5-16 5z\"></path>\n",
       "<path d=\"M16 26c-8.837 0-16-2.239-16-5v6c0 2.761 7.163 5 16 5s16-2.239 16-5v-6c0 2.761-7.163 5-16 5z\"></path>\n",
       "</symbol>\n",
       "<symbol id=\"icon-file-text2\" viewBox=\"0 0 32 32\">\n",
       "<title>Show/Hide attributes</title>\n",
       "<path d=\"M28.681 7.159c-0.694-0.947-1.662-2.053-2.724-3.116s-2.169-2.030-3.116-2.724c-1.612-1.182-2.393-1.319-2.841-1.319h-15.5c-1.378 0-2.5 1.121-2.5 2.5v27c0 1.378 1.122 2.5 2.5 2.5h23c1.378 0 2.5-1.122 2.5-2.5v-19.5c0-0.448-0.137-1.23-1.319-2.841zM24.543 5.457c0.959 0.959 1.712 1.825 2.268 2.543h-4.811v-4.811c0.718 0.556 1.584 1.309 2.543 2.268zM28 29.5c0 0.271-0.229 0.5-0.5 0.5h-23c-0.271 0-0.5-0.229-0.5-0.5v-27c0-0.271 0.229-0.5 0.5-0.5 0 0 15.499-0 15.5 0v7c0 0.552 0.448 1 1 1h7v19.5z\"></path>\n",
       "<path d=\"M23 26h-14c-0.552 0-1-0.448-1-1s0.448-1 1-1h14c0.552 0 1 0.448 1 1s-0.448 1-1 1z\"></path>\n",
       "<path d=\"M23 22h-14c-0.552 0-1-0.448-1-1s0.448-1 1-1h14c0.552 0 1 0.448 1 1s-0.448 1-1 1z\"></path>\n",
       "<path d=\"M23 18h-14c-0.552 0-1-0.448-1-1s0.448-1 1-1h14c0.552 0 1 0.448 1 1s-0.448 1-1 1z\"></path>\n",
       "</symbol>\n",
       "</defs>\n",
       "</svg>\n",
       "<style>/* CSS stylesheet for displaying xarray objects in jupyterlab.\n",
       " *\n",
       " */\n",
       "\n",
       ":root {\n",
       "  --xr-font-color0: var(--jp-content-font-color0, rgba(0, 0, 0, 1));\n",
       "  --xr-font-color2: var(--jp-content-font-color2, rgba(0, 0, 0, 0.54));\n",
       "  --xr-font-color3: var(--jp-content-font-color3, rgba(0, 0, 0, 0.38));\n",
       "  --xr-border-color: var(--jp-border-color2, #e0e0e0);\n",
       "  --xr-disabled-color: var(--jp-layout-color3, #bdbdbd);\n",
       "  --xr-background-color: var(--jp-layout-color0, white);\n",
       "  --xr-background-color-row-even: var(--jp-layout-color1, white);\n",
       "  --xr-background-color-row-odd: var(--jp-layout-color2, #eeeeee);\n",
       "}\n",
       "\n",
       ".xr-wrap {\n",
       "  min-width: 300px;\n",
       "  max-width: 700px;\n",
       "}\n",
       "\n",
       ".xr-header {\n",
       "  padding-top: 6px;\n",
       "  padding-bottom: 6px;\n",
       "  margin-bottom: 4px;\n",
       "  border-bottom: solid 1px var(--xr-border-color);\n",
       "}\n",
       "\n",
       ".xr-header > div,\n",
       ".xr-header > ul {\n",
       "  display: inline;\n",
       "  margin-top: 0;\n",
       "  margin-bottom: 0;\n",
       "}\n",
       "\n",
       ".xr-obj-type,\n",
       ".xr-array-name {\n",
       "  margin-left: 2px;\n",
       "  margin-right: 10px;\n",
       "}\n",
       "\n",
       ".xr-obj-type {\n",
       "  color: var(--xr-font-color2);\n",
       "}\n",
       "\n",
       ".xr-sections {\n",
       "  padding-left: 0 !important;\n",
       "  display: grid;\n",
       "  grid-template-columns: 150px auto auto 1fr 20px 20px;\n",
       "}\n",
       "\n",
       ".xr-section-item {\n",
       "  display: contents;\n",
       "}\n",
       "\n",
       ".xr-section-item input {\n",
       "  display: none;\n",
       "}\n",
       "\n",
       ".xr-section-item input + label {\n",
       "  color: var(--xr-disabled-color);\n",
       "}\n",
       "\n",
       ".xr-section-item input:enabled + label {\n",
       "  cursor: pointer;\n",
       "  color: var(--xr-font-color2);\n",
       "}\n",
       "\n",
       ".xr-section-item input:enabled + label:hover {\n",
       "  color: var(--xr-font-color0);\n",
       "}\n",
       "\n",
       ".xr-section-summary {\n",
       "  grid-column: 1;\n",
       "  color: var(--xr-font-color2);\n",
       "  font-weight: 500;\n",
       "}\n",
       "\n",
       ".xr-section-summary > span {\n",
       "  display: inline-block;\n",
       "  padding-left: 0.5em;\n",
       "}\n",
       "\n",
       ".xr-section-summary-in:disabled + label {\n",
       "  color: var(--xr-font-color2);\n",
       "}\n",
       "\n",
       ".xr-section-summary-in + label:before {\n",
       "  display: inline-block;\n",
       "  content: '►';\n",
       "  font-size: 11px;\n",
       "  width: 15px;\n",
       "  text-align: center;\n",
       "}\n",
       "\n",
       ".xr-section-summary-in:disabled + label:before {\n",
       "  color: var(--xr-disabled-color);\n",
       "}\n",
       "\n",
       ".xr-section-summary-in:checked + label:before {\n",
       "  content: '▼';\n",
       "}\n",
       "\n",
       ".xr-section-summary-in:checked + label > span {\n",
       "  display: none;\n",
       "}\n",
       "\n",
       ".xr-section-summary,\n",
       ".xr-section-inline-details {\n",
       "  padding-top: 4px;\n",
       "  padding-bottom: 4px;\n",
       "}\n",
       "\n",
       ".xr-section-inline-details {\n",
       "  grid-column: 2 / -1;\n",
       "}\n",
       "\n",
       ".xr-section-details {\n",
       "  display: none;\n",
       "  grid-column: 1 / -1;\n",
       "  margin-bottom: 5px;\n",
       "}\n",
       "\n",
       ".xr-section-summary-in:checked ~ .xr-section-details {\n",
       "  display: contents;\n",
       "}\n",
       "\n",
       ".xr-array-wrap {\n",
       "  grid-column: 1 / -1;\n",
       "  display: grid;\n",
       "  grid-template-columns: 20px auto;\n",
       "}\n",
       "\n",
       ".xr-array-wrap > label {\n",
       "  grid-column: 1;\n",
       "  vertical-align: top;\n",
       "}\n",
       "\n",
       ".xr-preview {\n",
       "  color: var(--xr-font-color3);\n",
       "}\n",
       "\n",
       ".xr-array-preview,\n",
       ".xr-array-data {\n",
       "  padding: 0 5px !important;\n",
       "  grid-column: 2;\n",
       "}\n",
       "\n",
       ".xr-array-data,\n",
       ".xr-array-in:checked ~ .xr-array-preview {\n",
       "  display: none;\n",
       "}\n",
       "\n",
       ".xr-array-in:checked ~ .xr-array-data,\n",
       ".xr-array-preview {\n",
       "  display: inline-block;\n",
       "}\n",
       "\n",
       ".xr-dim-list {\n",
       "  display: inline-block !important;\n",
       "  list-style: none;\n",
       "  padding: 0 !important;\n",
       "  margin: 0;\n",
       "}\n",
       "\n",
       ".xr-dim-list li {\n",
       "  display: inline-block;\n",
       "  padding: 0;\n",
       "  margin: 0;\n",
       "}\n",
       "\n",
       ".xr-dim-list:before {\n",
       "  content: '(';\n",
       "}\n",
       "\n",
       ".xr-dim-list:after {\n",
       "  content: ')';\n",
       "}\n",
       "\n",
       ".xr-dim-list li:not(:last-child):after {\n",
       "  content: ',';\n",
       "  padding-right: 5px;\n",
       "}\n",
       "\n",
       ".xr-has-index {\n",
       "  font-weight: bold;\n",
       "}\n",
       "\n",
       ".xr-var-list,\n",
       ".xr-var-item {\n",
       "  display: contents;\n",
       "}\n",
       "\n",
       ".xr-var-item > div,\n",
       ".xr-var-item label,\n",
       ".xr-var-item > .xr-var-name span {\n",
       "  background-color: var(--xr-background-color-row-even);\n",
       "  margin-bottom: 0;\n",
       "}\n",
       "\n",
       ".xr-var-item > .xr-var-name:hover span {\n",
       "  padding-right: 5px;\n",
       "}\n",
       "\n",
       ".xr-var-list > li:nth-child(odd) > div,\n",
       ".xr-var-list > li:nth-child(odd) > label,\n",
       ".xr-var-list > li:nth-child(odd) > .xr-var-name span {\n",
       "  background-color: var(--xr-background-color-row-odd);\n",
       "}\n",
       "\n",
       ".xr-var-name {\n",
       "  grid-column: 1;\n",
       "}\n",
       "\n",
       ".xr-var-dims {\n",
       "  grid-column: 2;\n",
       "}\n",
       "\n",
       ".xr-var-dtype {\n",
       "  grid-column: 3;\n",
       "  text-align: right;\n",
       "  color: var(--xr-font-color2);\n",
       "}\n",
       "\n",
       ".xr-var-preview {\n",
       "  grid-column: 4;\n",
       "}\n",
       "\n",
       ".xr-var-name,\n",
       ".xr-var-dims,\n",
       ".xr-var-dtype,\n",
       ".xr-preview,\n",
       ".xr-attrs dt {\n",
       "  white-space: nowrap;\n",
       "  overflow: hidden;\n",
       "  text-overflow: ellipsis;\n",
       "  padding-right: 10px;\n",
       "}\n",
       "\n",
       ".xr-var-name:hover,\n",
       ".xr-var-dims:hover,\n",
       ".xr-var-dtype:hover,\n",
       ".xr-attrs dt:hover {\n",
       "  overflow: visible;\n",
       "  width: auto;\n",
       "  z-index: 1;\n",
       "}\n",
       "\n",
       ".xr-var-attrs,\n",
       ".xr-var-data {\n",
       "  display: none;\n",
       "  background-color: var(--xr-background-color) !important;\n",
       "  padding-bottom: 5px !important;\n",
       "}\n",
       "\n",
       ".xr-var-attrs-in:checked ~ .xr-var-attrs,\n",
       ".xr-var-data-in:checked ~ .xr-var-data {\n",
       "  display: block;\n",
       "}\n",
       "\n",
       ".xr-var-data > table {\n",
       "  float: right;\n",
       "}\n",
       "\n",
       ".xr-var-name span,\n",
       ".xr-var-data,\n",
       ".xr-attrs {\n",
       "  padding-left: 25px !important;\n",
       "}\n",
       "\n",
       ".xr-attrs,\n",
       ".xr-var-attrs,\n",
       ".xr-var-data {\n",
       "  grid-column: 1 / -1;\n",
       "}\n",
       "\n",
       "dl.xr-attrs {\n",
       "  padding: 0;\n",
       "  margin: 0;\n",
       "  display: grid;\n",
       "  grid-template-columns: 125px auto;\n",
       "}\n",
       "\n",
       ".xr-attrs dt, dd {\n",
       "  padding: 0;\n",
       "  margin: 0;\n",
       "  float: left;\n",
       "  padding-right: 10px;\n",
       "  width: auto;\n",
       "}\n",
       "\n",
       ".xr-attrs dt {\n",
       "  font-weight: normal;\n",
       "  grid-column: 1;\n",
       "}\n",
       "\n",
       ".xr-attrs dt:hover span {\n",
       "  display: inline-block;\n",
       "  background: var(--xr-background-color);\n",
       "  padding-right: 10px;\n",
       "}\n",
       "\n",
       ".xr-attrs dd {\n",
       "  grid-column: 2;\n",
       "  white-space: pre-wrap;\n",
       "  word-break: break-all;\n",
       "}\n",
       "\n",
       ".xr-icon-database,\n",
       ".xr-icon-file-text2 {\n",
       "  display: inline-block;\n",
       "  vertical-align: middle;\n",
       "  width: 1em;\n",
       "  height: 1.5em !important;\n",
       "  stroke-width: 0;\n",
       "  stroke: currentColor;\n",
       "  fill: currentColor;\n",
       "}\n",
       "</style><div class='xr-wrap'><div class='xr-header'><div class='xr-obj-type'>xarray.DataArray</div><div class='xr-array-name'>'x_range'</div><ul class='xr-dim-list'><li><span>side</span>: 2</li></ul></div><ul class='xr-sections'><li class='xr-section-item'><div class='xr-array-wrap'><input id='section-39b772bf-e981-4961-996a-b916f3064c09' class='xr-array-in' type='checkbox' ><label for='section-39b772bf-e981-4961-996a-b916f3064c09' title='Show/hide data repr'><svg class='icon xr-icon-database'><use xlink:href='#icon-database'></use></svg></label><div class='xr-array-preview xr-preview'><span>-135.0 -120.0</span></div><pre class='xr-array-data'>array([-135.      , -119.992676])</pre></div></li><li class='xr-section-item'><input id='section-c6d92d07-8eae-46df-b6d9-561ba32deda1' class='xr-section-summary-in' type='checkbox' disabled ><label for='section-c6d92d07-8eae-46df-b6d9-561ba32deda1' class='xr-section-summary'  title='Expand/collapse section'>Coordinates: <span>(0)</span></label><div class='xr-section-inline-details'></div><div class='xr-section-details'><ul class='xr-var-list'></ul></div></li><li class='xr-section-item'><input id='section-a67127a5-c823-4feb-a84c-a01b24d71b44' class='xr-section-summary-in' type='checkbox'  checked><label for='section-a67127a5-c823-4feb-a84c-a01b24d71b44' class='xr-section-summary' >Attributes: <span>(1)</span></label><div class='xr-section-inline-details'></div><div class='xr-section-details'><dl class='xr-attrs'><dt><span>units :</span></dt><dd>Longitude</dd></dl></div></li></ul></div></div>"
      ],
      "text/plain": [
       "<xarray.DataArray 'x_range' (side: 2)>\n",
       "array([-135.      , -119.992676])\n",
       "Dimensions without coordinates: side\n",
       "Attributes:\n",
       "    units:    Longitude"
      ]
     },
     "execution_count": 53,
     "metadata": {},
     "output_type": "execute_result"
    }
   ],
   "source": [
    "topo.x_range"
   ]
  },
  {
   "cell_type": "markdown",
   "metadata": {},
   "source": [
    "### Creating a function that plots nicely the relief data"
   ]
  },
  {
   "cell_type": "code",
   "execution_count": null,
   "metadata": {},
   "outputs": [],
   "source": [
    "def plot_elevation(x,y,z, shade=True):\n",
    "    \n",
    "    #This deals with specified longitude ranges outside +-180 \n",
    "    central_longitude=0\n",
    "    \n",
    "    if np.max(x)>180: \n",
    "        central_longitude=180\n",
    "    if np.min(x)<-180: \n",
    "        central_longitude=-180\n",
    "        \n",
    "    x=x-central_longitude            \n",
    "        \n",
    "    if np.max(abs(x)>180):\n",
    "        print('Check longitude range!')\n",
    "        return np.nan       \n",
    "    \n",
    "    #specifying the colormap and its limits\n",
    "    cmap = plt.get_cmap('terrain') \n",
    "    vmin = np.min(z) \n",
    "    vmax = np.max(z)\n",
    "\n",
    "    #creating a shaded image with specified light source location\n",
    "    if shade: \n",
    "        ls = LightSource(azdeg=315, altdeg=45)\n",
    "        z = ls.shade(z, cmap=cmap,blend_mode='overlay',vert_exag=0.1)\n",
    "\n",
    "    \n",
    "    #set appropriate aspect ratio; otherwise, images are shown with 1:1 aspect ratio\n",
    "    aspect=1/np.cos(np.pi/180*np.mean(y));  # aspect ratio = 1 degree lat in km over 1degree lon in km = 1/cos(lat)\n",
    "\n",
    "    #setting a projection; the fastest is PlateCarree because that's where the lat/lon elevation data is defined \n",
    "    ax = plt.axes(projection=ccrs.PlateCarree(central_longitude=central_longitude))\n",
    "\n",
    "    gl=ax.gridlines(draw_labels=True)\n",
    "    gl.top_labels = False\n",
    "    gl.right_labels = False\n",
    "    gl.xlines=None\n",
    "    gl.ylines=None\n",
    "    \n",
    "    cax=plt.imshow(z, \n",
    "                   cmap=cmap,\n",
    "                   vmin=vmin, vmax=vmax,\n",
    "                   extent=[min(x),max(x),min(y),max(y)], \n",
    "                   aspect=aspect)\n",
    "    plt.colorbar(cax, shrink =0.25)\n",
    "    ax.add_feature(cfeature.COASTLINE)\n",
    "    return ax"
   ]
  },
  {
   "cell_type": "markdown",
   "metadata": {},
   "source": [
    "### Plot topography together with the earthquake data"
   ]
  },
  {
   "cell_type": "code",
   "execution_count": null,
   "metadata": {},
   "outputs": [],
   "source": [
    "plt.figure(figsize=(20,20))\n",
    "\n",
    "ax=plot_elevation(x,y,z, shade=True) #shade=False is faster but less cool\n",
    "\n",
    "ind= (events.longitude>min(x)) & (events.longitude<max(x)) & (events.latitude>min(y)) & (events.latitude<max(y)); # selecting only those points that are within our bathymetry area\n",
    "\n",
    "plt.scatter(events[ind].longitude,\n",
    "            events[ind].latitude,\n",
    "            events[ind].marker_size, \n",
    "            color='r',alpha=0.7, \n",
    "            transform=ccrs.PlateCarree())"
   ]
  },
  {
   "cell_type": "markdown",
   "metadata": {
    "id": "hYhsALEcA7_L"
   },
   "source": [
    "Do any features in the bathymetry stand out to you? Remember the diagram of geologic processes in the PNW above- do you think any of the bathymetric features connect to the geologic processes?\n",
    "\n",
    "Let's see how our earthquake locations (which we previously saved as \"lats\" and \"lons\" arrays) relate to bathymetry."
   ]
  },
  {
   "cell_type": "markdown",
   "metadata": {
    "id": "QBKE-dkcBs8p",
    "tags": []
   },
   "source": [
    "# In-class exercise \\#2: Juan de Fuca - Earthquakes\n",
    "\n",
    "We can see there aren't too many large earthquakes occurring throughout the whole region. To get a better sense of the full scope of activity, we should plot earthquakes of smaller magnitude.\n",
    "\n",
    "Download earthquakes with a minimum magnitude of 2.5 for the chosen region from IRIS. Plot those earthquakes on the bathymetry map, with their size relating to magnitude."
   ]
  },
  {
   "cell_type": "code",
   "execution_count": null,
   "metadata": {},
   "outputs": [],
   "source": [
    "#your solution goes here"
   ]
  },
  {
   "cell_type": "code",
   "execution_count": null,
   "metadata": {},
   "outputs": [],
   "source": []
  },
  {
   "cell_type": "markdown",
   "metadata": {
    "id": "7kZfsj86DlN-"
   },
   "source": [
    "We see that some of the earthquakes align with the bathymetric high that runs roughly north-south in the region. That is called the Juan de Fuca Ridge, a mid-ocean spreading ridge where new seafloor is created. \n",
    "\n",
    "But, we see there is actually more activity on the northern end of the ridge and on the features in the south that run roughly east-west. That is because the tectonic plate boundaries in these areas are transitioning between types, leading to break-up of the tectonic plates.\n",
    "\n",
    "To the north, seafloor spreading intersects the Cascadia subduction zone and the Queen Charlotte transform fault, which lead to the formation of the Explorer microplate.\n",
    "\n",
    "To the south, the Blanco and Mendocino transform zones also outline a smaller plate, the Gorda plate.\n",
    "\n",
    "Check out the first paper in the \"reading\" section for more detail!"
   ]
  },
  {
   "cell_type": "markdown",
   "metadata": {},
   "source": [
    "# Earthquakes and Slab Depth\n",
    " \n",
    "Geophysical imaging techniques allow us to \"see\" into the earth and define the depth and shape of a tectonic plate as it subducts beneath another. \n",
    " \n",
    "This analysis has been compiled into a dataset of \"slab depths\" for subduction zones around the globe:\n",
    "\n",
    "Hayes, G. P., Moore, G. L., Portner, D. E., Hearne, M., Flamme, H., Furtney, M., & Smoczyk, G. M. (2018). Slab2, a comprehensive subduction zone geometry model. Science, 362(6410), 58-61.\n",
    "https://www.science.org/doi/full/10.1126/science.aat4723\n",
    "\n",
    "Slab2 data is publicly available and can be downloaded at https://www.sciencebase.gov/catalog/item/5aa1b00ee4b0b1c392e86467/\n",
    "\n",
    "<img src=\"Slab_depths.jpeg\" width=800>"
   ]
  },
  {
   "cell_type": "markdown",
   "metadata": {},
   "source": [
    "Here we will look at the depth of the Pacific plate as it subducts beneath Alaska and the Aleutian arc. The grd file has already been downloaded to this directory:"
   ]
  },
  {
   "cell_type": "code",
   "execution_count": null,
   "metadata": {},
   "outputs": [],
   "source": [
    "slab_data = 'alu_slab2_dep_02.23.18.grd'"
   ]
  },
  {
   "cell_type": "code",
   "execution_count": null,
   "metadata": {},
   "outputs": [],
   "source": [
    "#if using google colab, mount the google drive first and load the file as\n",
    "#slab_data = '/content/drive/MyDrive/Datasets2023/Slab2/alu_slab2_dep_02.23.18.grd'"
   ]
  },
  {
   "cell_type": "code",
   "execution_count": null,
   "metadata": {},
   "outputs": [],
   "source": [
    "minlat = 45\n",
    "maxlat = 65\n",
    "minlon = -200 # note- this is not best practice to put longitude as greater than 180 but some packages require it\n",
    "maxlon = -145\n",
    "\n",
    "slab=xr.open_dataset(slab_data)\n",
    "x_slab=slab.x.values\n",
    "y_slab=slab.y.values\n",
    "z_slab=slab.z.values\n",
    "z_slab=np.flipud(z_slab)\n",
    "z_slab[np.isnan(z_slab)]=0"
   ]
  },
  {
   "cell_type": "code",
   "execution_count": null,
   "metadata": {},
   "outputs": [],
   "source": [
    "z_slab"
   ]
  },
  {
   "cell_type": "code",
   "execution_count": null,
   "metadata": {},
   "outputs": [],
   "source": [
    "plt.figure(figsize=(20,20))\n",
    "ax=plot_elevation(x_slab,y_slab,z_slab, shade=False)"
   ]
  },
  {
   "cell_type": "markdown",
   "metadata": {},
   "source": [
    "Further reading about Alaskan seismicity: https://earthquake.alaska.edu/earthquakes/about"
   ]
  },
  {
   "cell_type": "markdown",
   "metadata": {},
   "source": [
    "# In-class exercise \\#3: Earthquake locations and slab depth\n",
    " \n",
    "- Download and plot earthquake locations on top of the slab depth data.\n",
    "- Is there any correspondence between slab depth and earthquake properties?\n"
   ]
  },
  {
   "cell_type": "code",
   "execution_count": null,
   "metadata": {},
   "outputs": [],
   "source": [
    "#your solution goes here"
   ]
  }
 ],
 "metadata": {
  "colab": {
   "collapsed_sections": [],
   "name": "MGG_Datascience_Tutorial.ipynb",
   "provenance": [],
   "toc_visible": true
  },
  "kernelspec": {
   "display_name": "Python [conda env:root] *",
   "language": "python",
   "name": "conda-root-py"
  },
  "language_info": {
   "codemirror_mode": {
    "name": "ipython",
    "version": 3
   },
   "file_extension": ".py",
   "mimetype": "text/x-python",
   "name": "python",
   "nbconvert_exporter": "python",
   "pygments_lexer": "ipython3",
   "version": "3.7.6"
  }
 },
 "nbformat": 4,
 "nbformat_minor": 4
}
