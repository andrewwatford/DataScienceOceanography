{
 "cells": [
  {
   "cell_type": "code",
   "execution_count": null,
   "id": "d6dd10a3-011f-48cf-a7b9-5f863ac62e96",
   "metadata": {},
   "outputs": [],
   "source": [
    "import pathlib\n",
    "import pandas as pd\n",
    "import matplotlib.pyplot as plt\n",
    "import geopandas\n",
    "import numpy as np\n",
    "import plotly.express as px"
   ]
  },
  {
   "cell_type": "code",
   "execution_count": null,
   "id": "03791dc4-591c-48e0-8de0-6f553c134556",
   "metadata": {},
   "outputs": [],
   "source": [
    "fname='/dat1/gmanuch/DataScienceOceanography/MGG/earthquakes.parquet';\n",
    "df = pd.read_parquet(pathlib.Path(fname))\n",
    "df = df.set_index(df.time)\n",
    "\n",
    "gdf = geopandas.GeoDataFrame(df, geometry=geopandas.points_from_xy(df.longitude, df.latitude),crs=4326)\n",
    "gdf.keys()"
   ]
  },
  {
   "cell_type": "code",
   "execution_count": null,
   "id": "d849df76-6388-49b4-a6d0-5d89cbce8872",
   "metadata": {
    "tags": []
   },
   "outputs": [],
   "source": [
    "gdf.drop(columns='time')[gdf.mag>6].explore(column='mag') # drop the time axis and explore high-magnitude events only; geopandas makes nice maps"
   ]
  },
  {
   "cell_type": "code",
   "execution_count": null,
   "id": "8d993d4f-6f39-44e9-954d-177020925146",
   "metadata": {
    "tags": []
   },
   "outputs": [],
   "source": [
    "df['year'] = pd.DatetimeIndex(df['time']).year # add year as a category to group by\n",
    "df['marker_size'] = np.fix(np.exp(df['mag'])) # add marker size as exp(mag)"
   ]
  },
  {
   "cell_type": "code",
   "execution_count": null,
   "id": "5423dee6-db5f-4cd1-a18d-4cd2fe441284",
   "metadata": {},
   "outputs": [],
   "source": [
    "px.histogram(df[df.mag>2], #specify what dataframe to use\n",
    "             x=\"mag\",  #specify the variable for the histogram \n",
    "             animation_frame=\"year\", #this is the parameter controlling the animation\n",
    "             nbins=50, #number of bins for the histogram\n",
    "             range_x=[2,9], #x and y ranges for the axis such that the axis don't wobble around\n",
    "             range_y=[0,10e3], \n",
    "             height=400, #dimensions of the figure\n",
    "             width=600)"
   ]
  },
  {
   "cell_type": "code",
   "execution_count": null,
   "id": "5fa62152-097c-4ea2-b76f-5b78d9b11ea7",
   "metadata": {
    "tags": []
   },
   "outputs": [],
   "source": [
    "fig = px.scatter_geo(df[df.mag>5],\n",
    "                     lat='latitude',lon='longitude', \n",
    "                     size='marker_size', color='mag',\n",
    "                     hover_name='place', hover_data=['mag','depth','latitude','longitude', 'time'], \n",
    "                     range_color=(6,9),\n",
    "                     height=800, width=1400,\n",
    "                     animation_frame=\"year\")\n",
    "fig.update_geos(resolution=50, showcountries=True)\n",
    "fig.show()\n",
    "#fig.write_html(\"EarthquakesYears.html\")"
   ]
  },
  {
   "cell_type": "code",
   "execution_count": null,
   "id": "23efc5ce-02bc-4725-be48-5346f62d4c52",
   "metadata": {
    "tags": []
   },
   "outputs": [],
   "source": [
    "fig = px.scatter_geo(df[df.mag>6],\n",
    "                     lat='latitude',lon='longitude', \n",
    "                     size='marker_size', color='mag',\n",
    "                     hover_name='place', hover_data=['mag','depth','latitude','longitude', 'time'], \n",
    "                     range_color=(6,9),\n",
    "                     height=800, width=1400)\n",
    "fig.update_geos(resolution=50, showcountries=True, showlakes=True,projection_type='orthographic')\n",
    "fig.show()\n",
    "#fig.write_html(\"EarthquakesMag6+.html\")"
   ]
  }
 ],
 "metadata": {
  "kernelspec": {
   "display_name": "Python [conda env:root] *",
   "language": "python",
   "name": "conda-root-py"
  },
  "language_info": {
   "codemirror_mode": {
    "name": "ipython",
    "version": 3
   },
   "file_extension": ".py",
   "mimetype": "text/x-python",
   "name": "python",
   "nbconvert_exporter": "python",
   "pygments_lexer": "ipython3",
   "version": "3.7.6"
  }
 },
 "nbformat": 4,
 "nbformat_minor": 5
}
