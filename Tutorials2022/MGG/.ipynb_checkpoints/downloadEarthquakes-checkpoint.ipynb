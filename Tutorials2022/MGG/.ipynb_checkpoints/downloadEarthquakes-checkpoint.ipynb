{
 "cells": [
  {
   "cell_type": "code",
   "execution_count": null,
   "id": "2bf19e35-fdc4-49eb-8020-cfd8ef65a8af",
   "metadata": {},
   "outputs": [],
   "source": [
    "import os\n",
    "import pandas as pd\n",
    "import calendar\n",
    "import datetime as dt\n",
    "import requests\n",
    "\n",
    "URL = \"https://earthquake.usgs.gov/fdsnws/event/1/query.csv?starttime={start}&endtime={end}&minmagnitude=2.0&orderby=time\"\n",
    "\n",
    "for yr in range(2000, 2023):\n",
    "    print(yr)\n",
    "    for m in range(1, 13):\n",
    "        if os.path.isfile('{yr}_{m}.csv'.format(yr=yr, m=m)):\n",
    "            continue\n",
    "        _, ed = calendar.monthrange(yr, m)\n",
    "        start = dt.datetime(yr, m, 1)\n",
    "        end = dt.datetime(yr, m, ed, 23, 59, 59)\n",
    "        with open('{yr}_{m}.csv'.format(yr=yr, m=m), 'w', encoding='utf-8') as f:\n",
    "            f.write(requests.get(URL.format(start=start, end=end)).content.decode('utf-8'))\n",
    "\n",
    "dfs = []\n",
    "for i in range(2000, 2023):\n",
    "    for m in range(1, 13):\n",
    "        if not os.path.isfile('%d_%d.csv' % (i, m)):\n",
    "            continue\n",
    "        df = pd.read_csv('%d_%d.csv' % (i, m), dtype={'nst': 'float64'})\n",
    "        dfs.append(df)\n",
    "df = pd.concat(dfs, sort=True)\n",
    "df.to_parquet('./earthquakes.parquet', 'fastparquet')\n"
   ]
  }
 ],
 "metadata": {
  "kernelspec": {
   "display_name": "Python 3",
   "language": "python",
   "name": "python3"
  },
  "language_info": {
   "codemirror_mode": {
    "name": "ipython",
    "version": 3
   },
   "file_extension": ".py",
   "mimetype": "text/x-python",
   "name": "python",
   "nbconvert_exporter": "python",
   "pygments_lexer": "ipython3",
   "version": "3.7.6"
  }
 },
 "nbformat": 4,
 "nbformat_minor": 5
}
